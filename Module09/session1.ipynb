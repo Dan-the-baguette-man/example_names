{
 "cells": [
  {
   "cell_type": "markdown",
   "id": "a09ecbe4",
   "metadata": {},
   "source": [
    "\n",
    "# DATA 304 — Module 09 Demo: Regex & Pattern Matching\n",
    "\n",
    "**Purpose:** Hands-on demos for lecture slides. Run cells top to bottom.\n",
    "\n",
    "**Prereqs:** `pandas`, `re`, `unicodedata`\n",
    "\n",
    "**Contents:**\n",
    "1. Setup and sample data\n",
    "2. Regex basics with `re`\n",
    "3. Character classes, quantifiers, anchors\n",
    "4. `re` vs `pandas.Series.str`\n",
    "5. Extraction: `extract` vs `extractall`\n",
    "6. Greedy vs non-greedy\n",
    "7. Look-around assertions\n",
    "8. Word boundaries (`\\b`)\n",
    "9. Compiled patterns\n",
    "10. Extraction gallery\n",
    "11. Performance notes and `%timeit`\n",
    "12. Exercises (blanks for students)\n"
   ]
  },
  {
   "cell_type": "markdown",
   "id": "883f498e",
   "metadata": {},
   "source": [
    "## 1) Setup and sample data"
   ]
  },
  {
   "cell_type": "code",
   "execution_count": 1,
   "id": "fd0b54b8",
   "metadata": {},
   "outputs": [
    {
     "data": {
      "text/plain": [
       "0                              A cat sat on a catalog.\n",
       "1                               CS101, MATH200, BIO120\n",
       "2                                    New   York   City\n",
       "3                                     Café, cafe, CAFE\n",
       "4           (615) 555-7777; 615-555-7777; 615.555.7777\n",
       "5                SKU-A23B-2024; SKU-XYZ-1999; BAD-202X\n",
       "6    Visit https://example.com/docs and http://data...\n",
       "7                                    USD25 EUR30 USD40\n",
       "8           the cat sat with a bobcat, not concatenate\n",
       "dtype: object"
      ]
     },
     "execution_count": 1,
     "metadata": {},
     "output_type": "execute_result"
    }
   ],
   "source": [
    "import re\n",
    "import pandas as pd\n",
    "import unicodedata\n",
    "\n",
    "pd.set_option(\"display.max_rows\", 20)\n",
    "\n",
    "# Sample Series for demos\n",
    "s_text = pd.Series([\n",
    "    \"A cat sat on a catalog.\",\n",
    "    \"CS101, MATH200, BIO120\",\n",
    "    \"New   York   City\",\n",
    "    \"Café, cafe, CAFE\",\n",
    "    \"(615) 555-7777; 615-555-7777; 615.555.7777\",\n",
    "    \"SKU-A23B-2024; SKU-XYZ-1999; BAD-202X\",\n",
    "    \"Visit https://example.com/docs and http://data.org\",\n",
    "    \"USD25 EUR30 USD40\",\n",
    "    \"the cat sat with a bobcat, not concatenate\",\n",
    "])\n",
    "s_text\n"
   ]
  },
  {
   "cell_type": "markdown",
   "id": "68a29741",
   "metadata": {},
   "source": [
    "## 2) Regex basics with `re`"
   ]
  },
  {
   "cell_type": "code",
   "execution_count": 2,
   "id": "05f0511c",
   "metadata": {},
   "outputs": [
    {
     "data": {
      "text/plain": [
       "['cat', 'cat']"
      ]
     },
     "execution_count": 2,
     "metadata": {},
     "output_type": "execute_result"
    }
   ],
   "source": [
    "text = \"A cat sat on a catalog\"\n",
    "re.findall(r\"cat\", text)"
   ]
  },
  {
   "cell_type": "code",
   "execution_count": 3,
   "id": "591eb603",
   "metadata": {},
   "outputs": [
    {
     "data": {
      "text/plain": [
       "['12', '34']"
      ]
     },
     "execution_count": 3,
     "metadata": {},
     "output_type": "execute_result"
    }
   ],
   "source": [
    "# Literal vs pattern\n",
    "re.findall(r\"\\d+\", \"A12B34\")  # digits"
   ]
  },
  {
   "cell_type": "markdown",
   "id": "3792aa50",
   "metadata": {},
   "source": [
    "## 3) Character classes, quantifiers, anchors"
   ]
  },
  {
   "cell_type": "code",
   "execution_count": 4,
   "id": "a08db1e5",
   "metadata": {},
   "outputs": [
    {
     "name": "stdout",
     "output_type": "stream",
     "text": [
      "Digits: ['1', '2', '3', '4', '5', '6']\n"
     ]
    }
   ],
   "source": [
    "demo = \"Line1\\nLine2\\nline3\\nLine4\\nLine-5\\nLine6A\"\n",
    "print(\"Digits:\", re.findall(r\"\\d\", demo))"
   ]
  },
  {
   "cell_type": "code",
   "execution_count": 5,
   "id": "c5d175af",
   "metadata": {},
   "outputs": [
    {
     "name": "stdout",
     "output_type": "stream",
     "text": [
      "Words: ['alpha_42', 'beta', '7']\n"
     ]
    }
   ],
   "source": [
    "print(\"Words:\", re.findall(r\"\\w+\", \"alpha_42 beta-7\"))  # word chars"
   ]
  },
  {
   "cell_type": "code",
   "execution_count": 6,
   "id": "2b650211",
   "metadata": {},
   "outputs": [
    {
     "name": "stdout",
     "output_type": "stream",
     "text": [
      "Whitespace collapsed: New York City\n"
     ]
    }
   ],
   "source": [
    "print(\"Whitespace collapsed:\", re.sub(r\"\\s+\", \" \", \"New   York   City\").strip())"
   ]
  },
  {
   "cell_type": "code",
   "execution_count": 7,
   "id": "5039d37c",
   "metadata": {},
   "outputs": [
    {
     "name": "stdout",
     "output_type": "stream",
     "text": [
      "Anchors ^ and $: ['Line1', 'Line2', 'Line4']\n"
     ]
    }
   ],
   "source": [
    "print(\"Anchors ^ and $:\", re.findall(r\"^Line\\d$\", demo, flags=re.M))"
   ]
  },
  {
   "cell_type": "markdown",
   "id": "3af47f44",
   "metadata": {},
   "source": [
    "## 4) `re` vs `pandas.Series.str`"
   ]
  },
  {
   "cell_type": "code",
   "execution_count": 8,
   "id": "e8a84707",
   "metadata": {},
   "outputs": [
    {
     "data": {
      "text/plain": [
       "['101', '202', '303']"
      ]
     },
     "execution_count": 8,
     "metadata": {},
     "output_type": "execute_result"
    }
   ],
   "source": [
    "# Using re on one string\n",
    "re.findall(r\"\\d{3}\", \"Codes: 101 202 303\")"
   ]
  },
  {
   "cell_type": "code",
   "execution_count": 9,
   "id": "e6b103cb",
   "metadata": {},
   "outputs": [
    {
     "name": "stdout",
     "output_type": "stream",
     "text": [
      "           codes\n",
      "0  CS101 MATH200\n",
      "1         BIO120\n",
      "2   No code here\n"
     ]
    }
   ],
   "source": [
    "# Using pandas on a column\n",
    "df = pd.DataFrame({\"codes\": [\"CS101 MATH200\", \"BIO120\", \"No code here\"]})\n",
    "print(df)"
   ]
  },
  {
   "cell_type": "code",
   "execution_count": 10,
   "id": "21c1e12b",
   "metadata": {},
   "outputs": [
    {
     "name": "stdout",
     "output_type": "stream",
     "text": [
      "\n",
      "contains digits?\n"
     ]
    },
    {
     "data": {
      "text/plain": [
       "0     True\n",
       "1     True\n",
       "2    False\n",
       "Name: codes, dtype: bool"
      ]
     },
     "execution_count": 10,
     "metadata": {},
     "output_type": "execute_result"
    }
   ],
   "source": [
    "print(\"\\ncontains digits?\")\n",
    "mask = df[\"codes\"].str.contains(r\"\\d{3}\")\n",
    "mask"
   ]
  },
  {
   "cell_type": "code",
   "execution_count": 11,
   "id": "2c158eda",
   "metadata": {},
   "outputs": [
    {
     "data": {
      "text/html": [
       "<div>\n",
       "<style scoped>\n",
       "    .dataframe tbody tr th:only-of-type {\n",
       "        vertical-align: middle;\n",
       "    }\n",
       "\n",
       "    .dataframe tbody tr th {\n",
       "        vertical-align: top;\n",
       "    }\n",
       "\n",
       "    .dataframe thead th {\n",
       "        text-align: right;\n",
       "    }\n",
       "</style>\n",
       "<table border=\"1\" class=\"dataframe\">\n",
       "  <thead>\n",
       "    <tr style=\"text-align: right;\">\n",
       "      <th></th>\n",
       "      <th>codes</th>\n",
       "    </tr>\n",
       "  </thead>\n",
       "  <tbody>\n",
       "    <tr>\n",
       "      <th>0</th>\n",
       "      <td>CS101 MATH200</td>\n",
       "    </tr>\n",
       "    <tr>\n",
       "      <th>1</th>\n",
       "      <td>BIO120</td>\n",
       "    </tr>\n",
       "  </tbody>\n",
       "</table>\n",
       "</div>"
      ],
      "text/plain": [
       "           codes\n",
       "0  CS101 MATH200\n",
       "1         BIO120"
      ]
     },
     "execution_count": 11,
     "metadata": {},
     "output_type": "execute_result"
    }
   ],
   "source": [
    "df[mask]"
   ]
  },
  {
   "cell_type": "code",
   "execution_count": 12,
   "id": "307e303e",
   "metadata": {},
   "outputs": [
    {
     "name": "stdout",
     "output_type": "stream",
     "text": [
      "\n",
      "first 3-digit block: extract\n",
      "     0\n",
      "0  101\n",
      "1  120\n",
      "2  NaN\n"
     ]
    }
   ],
   "source": [
    "print(\"\\nfirst 3-digit block: extract\")\n",
    "print(df[\"codes\"].str.extract(r\"(\\d{3})\"))"
   ]
  },
  {
   "cell_type": "code",
   "execution_count": 13,
   "id": "7821998f",
   "metadata": {},
   "outputs": [
    {
     "name": "stdout",
     "output_type": "stream",
     "text": [
      "\n",
      "all 3-digit blocks: extractall\n"
     ]
    },
    {
     "data": {
      "text/html": [
       "<div>\n",
       "<style scoped>\n",
       "    .dataframe tbody tr th:only-of-type {\n",
       "        vertical-align: middle;\n",
       "    }\n",
       "\n",
       "    .dataframe tbody tr th {\n",
       "        vertical-align: top;\n",
       "    }\n",
       "\n",
       "    .dataframe thead th {\n",
       "        text-align: right;\n",
       "    }\n",
       "</style>\n",
       "<table border=\"1\" class=\"dataframe\">\n",
       "  <thead>\n",
       "    <tr style=\"text-align: right;\">\n",
       "      <th></th>\n",
       "      <th></th>\n",
       "      <th>0</th>\n",
       "    </tr>\n",
       "    <tr>\n",
       "      <th></th>\n",
       "      <th>match</th>\n",
       "      <th></th>\n",
       "    </tr>\n",
       "  </thead>\n",
       "  <tbody>\n",
       "    <tr>\n",
       "      <th rowspan=\"2\" valign=\"top\">0</th>\n",
       "      <th>0</th>\n",
       "      <td>101</td>\n",
       "    </tr>\n",
       "    <tr>\n",
       "      <th>1</th>\n",
       "      <td>200</td>\n",
       "    </tr>\n",
       "    <tr>\n",
       "      <th>1</th>\n",
       "      <th>0</th>\n",
       "      <td>120</td>\n",
       "    </tr>\n",
       "  </tbody>\n",
       "</table>\n",
       "</div>"
      ],
      "text/plain": [
       "           0\n",
       "  match     \n",
       "0 0      101\n",
       "  1      200\n",
       "1 0      120"
      ]
     },
     "execution_count": 13,
     "metadata": {},
     "output_type": "execute_result"
    }
   ],
   "source": [
    "print(\"\\nall 3-digit blocks: extractall\")\n",
    "df[\"codes\"].str.extractall(r\"(\\d{3})\")"
   ]
  },
  {
   "cell_type": "markdown",
   "id": "10d5107c",
   "metadata": {},
   "source": [
    "## 5) Extraction: `extract` vs `extractall`"
   ]
  },
  {
   "cell_type": "code",
   "execution_count": 14,
   "id": "9e8b7261",
   "metadata": {},
   "outputs": [
    {
     "name": "stdout",
     "output_type": "stream",
     "text": [
      "extract (first match per row):\n"
     ]
    },
    {
     "data": {
      "text/html": [
       "<div>\n",
       "<style scoped>\n",
       "    .dataframe tbody tr th:only-of-type {\n",
       "        vertical-align: middle;\n",
       "    }\n",
       "\n",
       "    .dataframe tbody tr th {\n",
       "        vertical-align: top;\n",
       "    }\n",
       "\n",
       "    .dataframe thead th {\n",
       "        text-align: right;\n",
       "    }\n",
       "</style>\n",
       "<table border=\"1\" class=\"dataframe\">\n",
       "  <thead>\n",
       "    <tr style=\"text-align: right;\">\n",
       "      <th></th>\n",
       "      <th>0</th>\n",
       "    </tr>\n",
       "  </thead>\n",
       "  <tbody>\n",
       "    <tr>\n",
       "      <th>0</th>\n",
       "      <td>2020</td>\n",
       "    </tr>\n",
       "    <tr>\n",
       "      <th>1</th>\n",
       "      <td>1999</td>\n",
       "    </tr>\n",
       "    <tr>\n",
       "      <th>2</th>\n",
       "      <td>NaN</td>\n",
       "    </tr>\n",
       "  </tbody>\n",
       "</table>\n",
       "</div>"
      ],
      "text/plain": [
       "      0\n",
       "0  2020\n",
       "1  1999\n",
       "2   NaN"
      ]
     },
     "metadata": {},
     "output_type": "display_data"
    }
   ],
   "source": [
    "s = pd.Series([\"2020 and 2021\", \"1999 only\", \"none\"])\n",
    "print(\"extract (first match per row):\")\n",
    "display(s.str.extract(r\"(\\d{4})\"))"
   ]
  },
  {
   "cell_type": "code",
   "execution_count": 15,
   "id": "9fbf5965",
   "metadata": {},
   "outputs": [
    {
     "name": "stdout",
     "output_type": "stream",
     "text": [
      "\n",
      "extractall (all matches, multi-index):\n"
     ]
    },
    {
     "data": {
      "text/html": [
       "<div>\n",
       "<style scoped>\n",
       "    .dataframe tbody tr th:only-of-type {\n",
       "        vertical-align: middle;\n",
       "    }\n",
       "\n",
       "    .dataframe tbody tr th {\n",
       "        vertical-align: top;\n",
       "    }\n",
       "\n",
       "    .dataframe thead th {\n",
       "        text-align: right;\n",
       "    }\n",
       "</style>\n",
       "<table border=\"1\" class=\"dataframe\">\n",
       "  <thead>\n",
       "    <tr style=\"text-align: right;\">\n",
       "      <th></th>\n",
       "      <th></th>\n",
       "      <th>0</th>\n",
       "    </tr>\n",
       "    <tr>\n",
       "      <th></th>\n",
       "      <th>match</th>\n",
       "      <th></th>\n",
       "    </tr>\n",
       "  </thead>\n",
       "  <tbody>\n",
       "    <tr>\n",
       "      <th rowspan=\"2\" valign=\"top\">0</th>\n",
       "      <th>0</th>\n",
       "      <td>2020</td>\n",
       "    </tr>\n",
       "    <tr>\n",
       "      <th>1</th>\n",
       "      <td>2021</td>\n",
       "    </tr>\n",
       "    <tr>\n",
       "      <th>1</th>\n",
       "      <th>0</th>\n",
       "      <td>1999</td>\n",
       "    </tr>\n",
       "  </tbody>\n",
       "</table>\n",
       "</div>"
      ],
      "text/plain": [
       "            0\n",
       "  match      \n",
       "0 0      2020\n",
       "  1      2021\n",
       "1 0      1999"
      ]
     },
     "metadata": {},
     "output_type": "display_data"
    }
   ],
   "source": [
    "print(\"\\nextractall (all matches, multi-index):\")\n",
    "display(s.str.extractall(r\"(\\d{4})\"))"
   ]
  },
  {
   "cell_type": "markdown",
   "id": "0bf873db",
   "metadata": {},
   "source": [
    "## 6) Greedy vs non-greedy"
   ]
  },
  {
   "cell_type": "code",
   "execution_count": 16,
   "id": "3e9ee966",
   "metadata": {},
   "outputs": [
    {
     "name": "stdout",
     "output_type": "stream",
     "text": [
      "Greedy:\n",
      "['<p>one</p><p>two</p>']\n"
     ]
    }
   ],
   "source": [
    "html = \"<p>one</p><p>two</p>\"\n",
    "print(\"Greedy:\")\n",
    "print(re.findall(r\"<p>.+</p>\", html))"
   ]
  },
  {
   "cell_type": "code",
   "execution_count": 17,
   "id": "5f341852",
   "metadata": {},
   "outputs": [
    {
     "name": "stdout",
     "output_type": "stream",
     "text": [
      "Non-greedy:\n",
      "['<p>one</p>', '<p>two</p>']\n"
     ]
    }
   ],
   "source": [
    "print(\"Non-greedy:\")\n",
    "print(re.findall(r\"<p>.+?</p>\", html))"
   ]
  },
  {
   "cell_type": "markdown",
   "id": "50bf1625",
   "metadata": {},
   "source": [
    "## 7) Look-around assertions"
   ]
  },
  {
   "cell_type": "code",
   "execution_count": 18,
   "id": "9ef98147",
   "metadata": {},
   "outputs": [
    {
     "name": "stdout",
     "output_type": "stream",
     "text": [
      "Positive lookahead: words before .com\n"
     ]
    },
    {
     "data": {
      "text/plain": [
       "['amazon', 'openai']"
      ]
     },
     "metadata": {},
     "output_type": "display_data"
    }
   ],
   "source": [
    "print(\"Positive lookahead: words before .com\")\n",
    "display(re.findall(r\"\\w+(?=\\.com)\", \"amazon.com data.org openai.com\"))"
   ]
  },
  {
   "cell_type": "code",
   "execution_count": 19,
   "id": "d78035f8",
   "metadata": {},
   "outputs": [
    {
     "name": "stdout",
     "output_type": "stream",
     "text": [
      "\n",
      "Positive lookbehind: digits after USD\n",
      "['25', '40']\n"
     ]
    }
   ],
   "source": [
    "print(\"\\nPositive lookbehind: digits after USD\")\n",
    "print(re.findall(r\"(?<=USD)\\d+\", \"USD25 EUR30 USD40\"))"
   ]
  },
  {
   "cell_type": "markdown",
   "id": "522acd71",
   "metadata": {},
   "source": [
    "## 8) Word boundaries (\\b)"
   ]
  },
  {
   "cell_type": "code",
   "execution_count": 20,
   "id": "00384cf5",
   "metadata": {},
   "outputs": [
    {
     "name": "stdout",
     "output_type": "stream",
     "text": [
      "\\bcat\\b => ['cat']\n",
      "\\bcat => ['cat']\n",
      "cat\\b => ['cat']\n",
      "\\bcat\\b => []\n"
     ]
    }
   ],
   "source": [
    "cases = [\n",
    "    (\"\\\\bcat\\\\b\", \"the cat sat\"),\n",
    "    (\"\\\\bcat\", \"catfish\"),\n",
    "    (\"cat\\\\b\", \"bobcat\"),\n",
    "    (\"\\\\bcat\\\\b\", \"concatenate\"),\n",
    "]\n",
    "for pat, txt in cases:\n",
    "    print(pat, \"=>\", re.findall(pat, txt))"
   ]
  },
  {
   "cell_type": "markdown",
   "id": "da267f01",
   "metadata": {},
   "source": [
    "## 9) Compiled patterns"
   ]
  },
  {
   "cell_type": "code",
   "execution_count": 21,
   "id": "cb803bd9",
   "metadata": {},
   "outputs": [
    {
     "name": "stdout",
     "output_type": "stream",
     "text": [
      "Extracted phone-like patterns:\n",
      "0    (615)555-7777\n",
      "1     615-555-7777\n",
      "2     615 555 7777\n",
      "3     615.555.7777\n",
      "4              NaN\n",
      "dtype: object\n",
      "\n",
      "Normalized digits:\n",
      "0    6155557777\n",
      "1    6155557777\n",
      "2    6155557777\n",
      "3    6155557777\n",
      "4          None\n",
      "dtype: object\n",
      "\n",
      "Vectorized normalization:\n",
      "0    6155557777\n",
      "1    6155557777\n",
      "2    6155557777\n",
      "3    6155557777\n",
      "4           NaN\n",
      "dtype: object\n"
     ]
    }
   ],
   "source": [
    "phones = pd.Series([\"(615)555-7777\", \"615-555-7777\", \"615 555 7777\", \"615.555.7777\", \"bad number\"])\n",
    "pat_phone = re.compile(r'(\\(?\\d{3}\\)?[-.\\s]?\\d{3}[-.\\s]?\\d{4})')\n",
    "\n",
    "print(\"Extracted phone-like patterns:\")\n",
    "print(phones.str.extract(pat_phone, expand=False))\n",
    "\n",
    "# --- Normalize phones to digits only ---\n",
    "def normalize_phone(x: str) -> str | None:\n",
    "    digits = re.sub(r\"\\D\", \"\", x or \"\")\n",
    "    return digits if len(digits) == 10 else None\n",
    "\n",
    "print(\"\\nNormalized digits:\")\n",
    "print(phones.apply(normalize_phone))\n",
    "\n",
    "# --- Vectorized alternative (faster) ---\n",
    "digits = phones.str.replace(r\"\\D\", \"\", regex=True)\n",
    "phones_std = digits.where(digits.str.len() == 10)\n",
    "\n",
    "print(\"\\nVectorized normalization:\")\n",
    "print(phones_std)\n"
   ]
  },
  {
   "cell_type": "markdown",
   "id": "1d3011ec",
   "metadata": {},
   "source": [
    "## 10) Extraction gallery"
   ]
  },
  {
   "cell_type": "code",
   "execution_count": 22,
   "id": "4d29e283",
   "metadata": {},
   "outputs": [
    {
     "name": "stdout",
     "output_type": "stream",
     "text": [
      "Emails: ['user.name+id@domain.co', 'admin@mail.example.org']\n",
      "ZIPs: ['37996-0001']\n",
      "Courses: ['CS101', 'MATH200', 'BIO120']\n",
      "URLs: ['https://example.com/docs', 'http://data.org/faq']\n",
      "Dates: ['10/05/2025', '1/2/24']\n"
     ]
    }
   ],
   "source": [
    "import pandas as pd\n",
    "\n",
    "sample = pd.Series([\n",
    "    \"Email me at user.name+id@domain.co or admin@mail.example.org\",\n",
    "    \"Address: 37996-0001, Knoxville, TN\",\n",
    "    \"Courses: CS101 MATH200 BIO120\",\n",
    "    \"Links: https://example.com/docs http://data.org/faq\",\n",
    "    \"Dates: 10/05/2025, 1/2/24\",\n",
    "])\n",
    "\n",
    "# Wrap each pattern in () so extractall has a capture group\n",
    "pat_email  = r'([A-Za-z0-9._%+-]+@[A-Za-z0-9.-]+\\.[A-Za-z]{2,})'\n",
    "pat_zip    = r'(\\b\\d{5}(?:-\\d{4})?\\b)'\n",
    "pat_course = r'(\\b[A-Z]{2,4}\\d{3}\\b)'\n",
    "pat_url    = r'(https?://[\\w./-]+)'\n",
    "pat_date   = r'(\\b\\d{1,2}/\\d{1,2}/\\d{2,4}\\b)'\n",
    "\n",
    "def extractall_list(series, pattern):\n",
    "    return series.str.extractall(pattern).droplevel(1)[0].tolist()\n",
    "\n",
    "print(\"Emails:\",  extractall_list(sample, pat_email))\n",
    "print(\"ZIPs:\",    extractall_list(sample, pat_zip))\n",
    "print(\"Courses:\", extractall_list(sample, pat_course))\n",
    "print(\"URLs:\",    extractall_list(sample, pat_url))\n",
    "print(\"Dates:\",   extractall_list(sample, pat_date))\n"
   ]
  },
  {
   "cell_type": "markdown",
   "id": "9b4cdf97",
   "metadata": {},
   "source": [
    "## 11) Performance notes and `%timeit`"
   ]
  },
  {
   "cell_type": "code",
   "execution_count": 23,
   "id": "ac4826e1",
   "metadata": {},
   "outputs": [
    {
     "name": "stdout",
     "output_type": "stream",
     "text": [
      "Greedy approx time: 0.138s\n",
      "Explicit approx time: 0.064s\n",
      "Note: Use %timeit in your own notebook for precise benchmarks.\n"
     ]
    }
   ],
   "source": [
    "\n",
    "# Create a larger Series for rough timing comparisons\n",
    "N = 50_000\n",
    "large = pd.Series([\n",
    "    \"Order ID: 2025-10-15; Customer: John_Doe; Total: USD40.50; Notes: urgent\"\n",
    "] * N)\n",
    "\n",
    "# Greedy wildcard vs explicit\n",
    "pat_greedy = re.compile(r\".*USD(\\d+\\.\\d{2}).*\")\n",
    "pat_explicit = re.compile(r\"USD(\\d+\\.\\d{2})\")\n",
    "\n",
    "# %timeit works in notebooks. Here we run a simple timing approach.\n",
    "import time\n",
    "t0 = time.time(); _ = large.str.extract(pat_greedy); t1 = time.time()\n",
    "t2 = time.time(); _ = large.str.extract(pat_explicit); t3 = time.time()\n",
    "\n",
    "print(f\"Greedy approx time: {t1 - t0:.3f}s\")\n",
    "print(f\"Explicit approx time: {t3 - t2:.3f}s\")\n",
    "print(\"Note: Use %timeit in your own notebook for precise benchmarks.\")\n"
   ]
  },
  {
   "cell_type": "markdown",
   "id": "4a7232e8",
   "metadata": {},
   "source": [
    "\n",
    "## 12) Exercises (student cells)\n",
    "\n",
    "1. **Normalize names**: Title-case names and collapse interior whitespace.  \n",
    "   - Input example: `\"  john   DOE  \"` → `\"John Doe\"`\n",
    "\n"
   ]
  },
  {
   "cell_type": "code",
   "execution_count": 24,
   "id": "45e3ee4d",
   "metadata": {},
   "outputs": [
    {
     "data": {
      "text/plain": [
       "0          John Doe\n",
       "1    Alice O'Connor\n",
       "dtype: object"
      ]
     },
     "execution_count": 24,
     "metadata": {},
     "output_type": "execute_result"
    }
   ],
   "source": [
    "s_names = pd.Series(['  john   DOE  ', '  aLIce   o\\'CONNOR '])\n",
    "names_norm = s_names.str.strip().str.split().str.join(' ').str.title()\n",
    "names_norm"
   ]
  },
  {
   "cell_type": "markdown",
   "id": "928b5e81",
   "metadata": {},
   "source": [
    "2. **Validate course codes**: Match department codes of 2–4 uppercase letters followed by 3 digits."
   ]
  },
  {
   "cell_type": "code",
   "execution_count": 25,
   "id": "dff7d855",
   "metadata": {},
   "outputs": [
    {
     "data": {
      "text/plain": [
       "0      CS101\n",
       "1    MATH200\n",
       "dtype: object"
      ]
     },
     "execution_count": 25,
     "metadata": {},
     "output_type": "execute_result"
    }
   ],
   "source": [
    "s_courses = pd.Series(['CS101', 'MATH200', 'bio120', 'EE7'])\n",
    "valid_mask = s_courses.str.fullmatch(r'[A-Z]{2,4}\\d{3}')\n",
    "s_courses[valid_mask]"
   ]
  },
  {
   "cell_type": "markdown",
   "id": "aa4b559d",
   "metadata": {},
   "source": [
    "3. **Extract dates**: From mixed text, extract all dates and convert to `datetime` with a robust parser."
   ]
  },
  {
   "cell_type": "code",
   "execution_count": 26,
   "id": "112127e8",
   "metadata": {},
   "outputs": [
    {
     "data": {
      "text/plain": [
       "0   2025-10-05\n",
       "1          NaT\n",
       "2   2024-02-29\n",
       "Name: 0, dtype: datetime64[ns]"
      ]
     },
     "execution_count": 26,
     "metadata": {},
     "output_type": "execute_result"
    }
   ],
   "source": [
    "s_text = pd.Series(['Dates: 10/05/2025, 1/2/24', 'No date', '02/29/2024 ok'])\n",
    "pat_date = r'\\b\\d{1,2}/\\d{1,2}/\\d{2,4}\\b'\n",
    "dates = s_text.str.extractall(f'({pat_date})')[0].reset_index(drop=True)\n",
    "dates_parsed = pd.to_datetime(dates, format=None, errors='coerce')\n",
    "dates_parsed"
   ]
  },
  {
   "cell_type": "markdown",
   "id": "d5a206c1",
   "metadata": {},
   "source": [
    "4. **Phone standardization**: Write a function that returns only 10-digit numbers, else `None`."
   ]
  },
  {
   "cell_type": "code",
   "execution_count": 27,
   "id": "a058fe21",
   "metadata": {},
   "outputs": [
    {
     "data": {
      "text/plain": [
       "0    6155557777\n",
       "1    6155557777\n",
       "2    6155557777\n",
       "3          None\n",
       "dtype: object"
      ]
     },
     "execution_count": 27,
     "metadata": {},
     "output_type": "execute_result"
    }
   ],
   "source": [
    "def normalize_phone(x: str) -> str | None:\n",
    "    if x is None:\n",
    "        return None\n",
    "    digits = re.sub(r'\\D', '', x)\n",
    "    return digits if len(digits) == 10 else None\n",
    "\n",
    "s_phones = pd.Series(['(615) 555-7777', '615-555-7777', '615.555.7777', 'bad'])\n",
    "phones_std = s_phones.apply(normalize_phone)\n",
    "phones_std"
   ]
  },
  {
   "cell_type": "code",
   "execution_count": 28,
   "id": "a1b6ed0c",
   "metadata": {},
   "outputs": [
    {
     "data": {
      "text/plain": [
       "0    6155557777\n",
       "1    6155557777\n",
       "2    6155557777\n",
       "3          None\n",
       "dtype: object"
      ]
     },
     "execution_count": 28,
     "metadata": {},
     "output_type": "execute_result"
    }
   ],
   "source": [
    "# Vectorized alternative for phones (faster on large Series)\n",
    "phones_digits = s_phones.str.replace(r'\\D', '', regex=True)\n",
    "phones_std_vec = phones_digits.where(phones_digits.str.len() == 10).where(phones_digits.ne(''), None)\n",
    "phones_std_vec"
   ]
  },
  {
   "cell_type": "markdown",
   "id": "a5ca0e38",
   "metadata": {},
   "source": [
    "5. **Look-around**: Extract digits that are preceded by `USD` and followed by a word boundary."
   ]
  },
  {
   "cell_type": "code",
   "execution_count": 29,
   "id": "14744995",
   "metadata": {},
   "outputs": [
    {
     "data": {
      "text/plain": [
       "0      25\n",
       "1      40\n",
       "2    1000\n",
       "Name: 0, dtype: object"
      ]
     },
     "execution_count": 29,
     "metadata": {},
     "output_type": "execute_result"
    }
   ],
   "source": [
    "s_money = pd.Series(['USD25 EUR30 USD40', 'USD1000.', 'XUSD7Y'])\n",
    "usd_numbers = s_money.str.extractall(r'(?<=USD)(\\d+)\\b')[0].reset_index(drop=True)\n",
    "usd_numbers"
   ]
  }
 ],
 "metadata": {
  "authors": [
   {
    "name": "DATA 304 Demo Notebook Generator"
   }
  ],
  "kernelspec": {
   "display_name": "Python 3",
   "language": "python",
   "name": "python3"
  },
  "language_info": {
   "codemirror_mode": {
    "name": "ipython",
    "version": 3
   },
   "file_extension": ".py",
   "mimetype": "text/x-python",
   "name": "python",
   "nbconvert_exporter": "python",
   "pygments_lexer": "ipython3",
   "version": "3.12.11"
  }
 },
 "nbformat": 4,
 "nbformat_minor": 5
}
