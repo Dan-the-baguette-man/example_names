{
 "cells": [
  {
   "cell_type": "markdown",
   "id": "a09ecbe4",
   "metadata": {},
   "source": [
    "\n",
    "# DATA 304 — Module 09 Demo: Regex & Pattern Matching\n",
    "\n",
    "**Purpose:** Hands-on demos for lecture slides. Run cells top to bottom.\n",
    "\n",
    "**Prereqs:** `pandas`, `re`, `unicodedata`\n",
    "\n",
    "**Contents:**\n",
    "1. Setup and sample data\n",
    "2. Regex basics with `re`\n",
    "3. Character classes, quantifiers, anchors\n",
    "4. `re` vs `pandas.Series.str`\n",
    "5. Extraction: `extract` vs `extractall`\n",
    "6. Greedy vs non-greedy\n",
    "7. Look-around assertions\n",
    "8. Word boundaries (`\\b`)\n",
    "9. Compiled patterns\n",
    "10. Extraction gallery\n",
    "11. Performance notes and `%timeit`\n",
    "12. Exercises (blanks for students)\n"
   ]
  },
  {
   "cell_type": "markdown",
   "id": "883f498e",
   "metadata": {},
   "source": [
    "## 1) Setup and sample data"
   ]
  },
  {
   "cell_type": "code",
   "execution_count": null,
   "id": "fd0b54b8",
   "metadata": {},
   "outputs": [],
   "source": [
    "\n",
    "import re\n",
    "import pandas as pd\n",
    "import unicodedata\n",
    "\n",
    "pd.set_option(\"display.max_rows\", 20)\n",
    "\n",
    "# Sample Series for demos\n",
    "s_text = pd.Series([\n",
    "    \"A cat sat on a catalog.\",\n",
    "    \"CS101, MATH200, BIO120\",\n",
    "    \"New   York   City\",\n",
    "    \"Café, cafe, CAFE\",\n",
    "    \"(615) 555-7777; 615-555-7777; 615.555.7777\",\n",
    "    \"SKU-A23B-2024; SKU-XYZ-1999; BAD-202X\",\n",
    "    \"Visit https://example.com/docs and http://data.org\",\n",
    "    \"USD25 EUR30 USD40\",\n",
    "    \"the cat sat with a bobcat, not concatenate\",\n",
    "])\n",
    "s_text\n"
   ]
  },
  {
   "cell_type": "markdown",
   "id": "68a29741",
   "metadata": {},
   "source": [
    "## 2) Regex basics with `re`"
   ]
  },
  {
   "cell_type": "code",
   "execution_count": null,
   "id": "05f0511c",
   "metadata": {},
   "outputs": [],
   "source": [
    "\n",
    "text = \"A cat sat on a catalog\"\n",
    "re.findall(r\"cat\", text)\n"
   ]
  },
  {
   "cell_type": "code",
   "execution_count": null,
   "id": "591eb603",
   "metadata": {},
   "outputs": [],
   "source": [
    "\n",
    "# Literal vs pattern\n",
    "re.findall(r\"\\d+\", \"A12B34\")  # digits\n"
   ]
  },
  {
   "cell_type": "markdown",
   "id": "3792aa50",
   "metadata": {},
   "source": [
    "## 3) Character classes, quantifiers, anchors"
   ]
  },
  {
   "cell_type": "code",
   "execution_count": null,
   "id": "a08db1e5",
   "metadata": {},
   "outputs": [],
   "source": [
    "\n",
    "demo = \"Line1\\nLine2\\nLine3\"\n",
    "print(\"Digits:\", re.findall(r\"\\d\", demo))\n",
    "print(\"Words:\", re.findall(r\"\\w+\", \"alpha_42 beta-7\"))  # word chars\n",
    "print(\"Whitespace collapsed:\", re.sub(r\"\\s+\", \" \", \"New   York   City\").strip())\n",
    "print(\"Anchors ^ and $:\", re.findall(r\"^Line\\d$\", demo, flags=re.M))\n"
   ]
  },
  {
   "cell_type": "markdown",
   "id": "3af47f44",
   "metadata": {},
   "source": [
    "## 4) `re` vs `pandas.Series.str`"
   ]
  },
  {
   "cell_type": "code",
   "execution_count": null,
   "id": "e8a84707",
   "metadata": {},
   "outputs": [],
   "source": [
    "\n",
    "# Using re on one string\n",
    "re.findall(r\"\\d{3}\", \"Codes: 101 202 303\")\n",
    "\n",
    "# Using pandas on a column\n",
    "df = pd.DataFrame({\"codes\": [\"CS101 MATH200\", \"BIO120\", \"No code here\"]})\n",
    "print(df)\n",
    "print(\"\\ncontains digits?\")\n",
    "print(df[\"codes\"].str.contains(r\"\\d{3}\"))\n",
    "\n",
    "print(\"\\nfirst 3-digit block: extract\")\n",
    "print(df[\"codes\"].str.extract(r\"(\\d{3})\"))\n",
    "\n",
    "print(\"\\nall 3-digit blocks: extractall\")\n",
    "print(df[\"codes\"].str.extractall(r\"(\\d{3})\"))\n"
   ]
  },
  {
   "cell_type": "markdown",
   "id": "10d5107c",
   "metadata": {},
   "source": [
    "## 5) Extraction: `extract` vs `extractall`"
   ]
  },
  {
   "cell_type": "code",
   "execution_count": null,
   "id": "9e8b7261",
   "metadata": {},
   "outputs": [],
   "source": [
    "\n",
    "s = pd.Series([\"2020 and 2021\", \"1999 only\", \"none\"])\n",
    "print(\"extract (first match per row):\")\n",
    "print(s.str.extract(r\"(\\d{4})\"))\n",
    "\n",
    "print(\"\\nextractall (all matches, multi-index):\")\n",
    "print(s.str.extractall(r\"(\\d{4})\"))\n"
   ]
  },
  {
   "cell_type": "markdown",
   "id": "0bf873db",
   "metadata": {},
   "source": [
    "## 6) Greedy vs non-greedy"
   ]
  },
  {
   "cell_type": "code",
   "execution_count": null,
   "id": "3e9ee966",
   "metadata": {},
   "outputs": [],
   "source": [
    "\n",
    "html = \"<p>one</p><p>two</p>\"\n",
    "print(\"Greedy:\")\n",
    "print(re.findall(r\"<p>.+</p>\", html))\n",
    "print(\"Non-greedy:\")\n",
    "print(re.findall(r\"<p>.+?</p>\", html))\n"
   ]
  },
  {
   "cell_type": "markdown",
   "id": "50bf1625",
   "metadata": {},
   "source": [
    "## 7) Look-around assertions"
   ]
  },
  {
   "cell_type": "code",
   "execution_count": null,
   "id": "9ef98147",
   "metadata": {},
   "outputs": [],
   "source": [
    "\n",
    "print(\"Positive lookahead: words before .com\")\n",
    "print(re.findall(r\"\\w+(?=\\.com)\", \"amazon.com data.org openai.com\"))\n",
    "\n",
    "print(\"\\nPositive lookbehind: digits after USD\")\n",
    "print(re.findall(r\"(?<=USD)\\d+\", \"USD25 EUR30 USD40\"))\n"
   ]
  },
  {
   "cell_type": "markdown",
   "id": "522acd71",
   "metadata": {},
   "source": [
    "## 8) Word boundaries (\\b)"
   ]
  },
  {
   "cell_type": "code",
   "execution_count": null,
   "id": "00384cf5",
   "metadata": {},
   "outputs": [],
   "source": [
    "\n",
    "cases = [\n",
    "    (\"\\\\bcat\\\\b\", \"the cat sat\"),\n",
    "    (\"\\\\bcat\", \"catfish\"),\n",
    "    (\"cat\\\\b\", \"bobcat\"),\n",
    "    (\"\\\\bcat\\\\b\", \"concatenate\"),\n",
    "]\n",
    "for pat, txt in cases:\n",
    "    print(pat, \"=>\", re.findall(pat, txt))\n"
   ]
  },
  {
   "cell_type": "markdown",
   "id": "da267f01",
   "metadata": {},
   "source": [
    "## 9) Compiled patterns"
   ]
  },
  {
   "cell_type": "code",
   "execution_count": null,
   "id": "cb803bd9",
   "metadata": {},
   "outputs": [],
   "source": [
    "phones = pd.Series([\"(615)555-7777\", \"615-555-7777\", \"615 555 7777\", \"615.555.7777\", \"bad number\"])\n",
    "pat_phone = re.compile(r'(\\(?\\d{3}\\)?[-.\\s]?\\d{3}[-.\\s]?\\d{4})')\n",
    "\n",
    "print(\"Extracted phone-like patterns:\")\n",
    "print(phones.str.extract(pat_phone, expand=False))\n",
    "\n",
    "# --- Normalize phones to digits only ---\n",
    "def normalize_phone(x: str) -> str | None:\n",
    "    digits = re.sub(r\"\\D\", \"\", x or \"\")\n",
    "    return digits if len(digits) == 10 else None\n",
    "\n",
    "print(\"\\nNormalized digits:\")\n",
    "print(phones.apply(normalize_phone))\n",
    "\n",
    "# --- Vectorized alternative (faster) ---\n",
    "digits = phones.str.replace(r\"\\D\", \"\", regex=True)\n",
    "phones_std = digits.where(digits.str.len() == 10)\n",
    "\n",
    "print(\"\\nVectorized normalization:\")\n",
    "print(phones_std)\n"
   ]
  },
  {
   "cell_type": "markdown",
   "id": "1d3011ec",
   "metadata": {},
   "source": [
    "## 10) Extraction gallery"
   ]
  },
  {
   "cell_type": "code",
   "execution_count": null,
   "id": "4d29e283",
   "metadata": {},
   "outputs": [],
   "source": [
    "import pandas as pd\n",
    "\n",
    "sample = pd.Series([\n",
    "    \"Email me at user.name+id@domain.co or admin@mail.example.org\",\n",
    "    \"Address: 37996-0001, Knoxville, TN\",\n",
    "    \"Courses: CS101 MATH200 BIO120\",\n",
    "    \"Links: https://example.com/docs http://data.org/faq\",\n",
    "    \"Dates: 10/05/2025, 1/2/24\",\n",
    "])\n",
    "\n",
    "# Wrap each pattern in () so extractall has a capture group\n",
    "pat_email  = r'([A-Za-z0-9._%+-]+@[A-Za-z0-9.-]+\\.[A-Za-z]{2,})'\n",
    "pat_zip    = r'(\\b\\d{5}(?:-\\d{4})?\\b)'\n",
    "pat_course = r'(\\b[A-Z]{2,4}\\d{3}\\b)'\n",
    "pat_url    = r'(https?://[\\w./-]+)'\n",
    "pat_date   = r'(\\b\\d{1,2}/\\d{1,2}/\\d{2,4}\\b)'\n",
    "\n",
    "def extractall_list(series, pattern):\n",
    "    return series.str.extractall(pattern).droplevel(1)[0].tolist()\n",
    "\n",
    "print(\"Emails:\",  extractall_list(sample, pat_email))\n",
    "print(\"ZIPs:\",    extractall_list(sample, pat_zip))\n",
    "print(\"Courses:\", extractall_list(sample, pat_course))\n",
    "print(\"URLs:\",    extractall_list(sample, pat_url))\n",
    "print(\"Dates:\",   extractall_list(sample, pat_date))\n"
   ]
  },
  {
   "cell_type": "markdown",
   "id": "9b4cdf97",
   "metadata": {},
   "source": [
    "## 11) Performance notes and `%timeit`"
   ]
  },
  {
   "cell_type": "code",
   "execution_count": null,
   "id": "ac4826e1",
   "metadata": {},
   "outputs": [],
   "source": [
    "\n",
    "# Create a larger Series for rough timing comparisons\n",
    "N = 50_000\n",
    "large = pd.Series([\n",
    "    \"Order ID: 2025-10-15; Customer: John_Doe; Total: USD40.50; Notes: urgent\"\n",
    "] * N)\n",
    "\n",
    "# Greedy wildcard vs explicit\n",
    "pat_greedy = re.compile(r\".*USD(\\d+\\.\\d{2}).*\")\n",
    "pat_explicit = re.compile(r\"USD(\\d+\\.\\d{2})\")\n",
    "\n",
    "# %timeit works in notebooks. Here we run a simple timing approach.\n",
    "import time\n",
    "t0 = time.time(); _ = large.str.extract(pat_greedy); t1 = time.time()\n",
    "t2 = time.time(); _ = large.str.extract(pat_explicit); t3 = time.time()\n",
    "\n",
    "print(f\"Greedy approx time: {t1 - t0:.3f}s\")\n",
    "print(f\"Explicit approx time: {t3 - t2:.3f}s\")\n",
    "print(\"Note: Use %timeit in your own notebook for precise benchmarks.\")\n"
   ]
  },
  {
   "cell_type": "markdown",
   "id": "4a7232e8",
   "metadata": {},
   "source": [
    "\n",
    "## 12) Exercises (student cells)\n",
    "\n",
    "1. **Normalize names**: Title-case names and collapse interior whitespace.  \n",
    "   - Input example: `\"  john   DOE  \"` → `\"John Doe\"`\n",
    "\n",
    "2. **Validate course codes**: Match department codes of 2–4 uppercase letters followed by 3 digits.\n",
    "\n",
    "3. **Extract dates**: From mixed text, extract all dates and convert to `datetime` with a robust parser.\n",
    "\n",
    "4. **Phone standardization**: Write a function that returns only 10-digit numbers, else `None`.\n",
    "\n",
    "5. **Look-around**: Extract digits that are preceded by `USD` and followed by a word boundary.\n"
   ]
  }
 ],
 "metadata": {
  "authors": [
   {
    "name": "DATA 304 Demo Notebook Generator"
   }
  ],
  "kernelspec": {
   "display_name": "Python 3",
   "language": "python",
   "name": "python3"
  },
  "language_info": {
   "codemirror_mode": {
    "name": "ipython",
    "version": 3
   },
   "file_extension": ".py",
   "mimetype": "text/x-python",
   "name": "python",
   "nbconvert_exporter": "python",
   "pygments_lexer": "ipython3",
   "version": "3.12.11"
  }
 },
 "nbformat": 4,
 "nbformat_minor": 5
}
