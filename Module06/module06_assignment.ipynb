{
 "cells": [
  {
   "cell_type": "markdown",
   "metadata": {},
   "source": [
    "# DATA 304 • Module 6 Exercises: SQL and MongoDB\n",
    "\n",
    "Do not change anything in cells other than writing your code in designated area."
   ]
  },
  {
   "cell_type": "markdown",
   "metadata": {},
   "source": [
    "## Part A — SQL with SQLite\n",
    "You will load a small relational schema into SQLite and write queries using `SELECT`, `JOIN`, `GROUP BY`, `HAVING`, and `ORDER BY`."
   ]
  },
  {
   "cell_type": "code",
   "execution_count": 1,
   "metadata": {},
   "outputs": [
    {
     "name": "stdout",
     "output_type": "stream",
     "text": [
      "SQLite ready.\n"
     ]
    }
   ],
   "source": [
    "# ASSIGNMENT CELL: SETUP\n",
    "# create a fresh SQLite database in-memory and seed tables\n",
    "import pandas as pd\n",
    "import sqlite3 as sql\n",
    "conn = sql.connect(':memory:')\n",
    "cur = conn.cursor()\n",
    "cur.executescript('''\n",
    "PRAGMA foreign_keys = ON;\n",
    "DROP TABLE IF EXISTS departments;\n",
    "DROP TABLE IF EXISTS employees;\n",
    "DROP TABLE IF EXISTS sales;\n",
    "CREATE TABLE departments (id INTEGER PRIMARY KEY, name TEXT NOT NULL);\n",
    "CREATE TABLE employees (id INTEGER PRIMARY KEY, name TEXT NOT NULL, title TEXT, salary INTEGER, dept_id INTEGER NOT NULL REFERENCES departments(id));\n",
    "CREATE TABLE sales (id INTEGER PRIMARY KEY, emp_id INTEGER NOT NULL REFERENCES employees(id), item TEXT NOT NULL, amount REAL NOT NULL, sold_at DATE NOT NULL);\n",
    "''')\n",
    "cur.executemany('INSERT INTO departments(id, name) VALUES (?,?)', [(1,'Engineering'),(2,'Sales'),(3,'HR')])\n",
    "cur.executemany('INSERT INTO employees(id,name,title,salary,dept_id) VALUES (?,?,?,?,?)', [\n",
    "  (1,'Alice','Engineer',105000,1),\n",
    "  (2,'Bob','Engineer',98000,1),\n",
    "  (3,'Cara','Sales Rep',90000,2),\n",
    "  (4,'Dan','Sales Rep',88000,2),\n",
    "  (5,'Ella','HR Generalist',78000,3)\n",
    "])\n",
    "cur.executemany('INSERT INTO sales(emp_id,item,amount,sold_at) VALUES (?,?,?,?)', [\n",
    "  (3,'Widget-A',1200.0,'2025-08-01'),\n",
    "  (3,'Widget-B',950.0,'2025-08-02'),\n",
    "  (4,'Widget-A',500.0,'2025-08-02'),\n",
    "  (4,'Widget-C',2200.0,'2025-08-03'),\n",
    "  (3,'Widget-C',1800.0,'2025-08-04')\n",
    "])\n",
    "conn.commit()\n",
    "print('SQLite ready.')"
   ]
  },
  {
   "cell_type": "markdown",
   "metadata": {},
   "source": [
    "### Task A1 — Basic SELECT\n",
    "List all employee names and titles sorted by name ascending."
   ]
  },
  {
   "cell_type": "code",
   "execution_count": 2,
   "metadata": {},
   "outputs": [
    {
     "data": {
      "text/html": [
       "<div>\n",
       "<style scoped>\n",
       "    .dataframe tbody tr th:only-of-type {\n",
       "        vertical-align: middle;\n",
       "    }\n",
       "\n",
       "    .dataframe tbody tr th {\n",
       "        vertical-align: top;\n",
       "    }\n",
       "\n",
       "    .dataframe thead th {\n",
       "        text-align: right;\n",
       "    }\n",
       "</style>\n",
       "<table border=\"1\" class=\"dataframe\">\n",
       "  <thead>\n",
       "    <tr style=\"text-align: right;\">\n",
       "      <th></th>\n",
       "      <th>name</th>\n",
       "      <th>title</th>\n",
       "    </tr>\n",
       "  </thead>\n",
       "  <tbody>\n",
       "    <tr>\n",
       "      <th>0</th>\n",
       "      <td>Alice</td>\n",
       "      <td>Engineer</td>\n",
       "    </tr>\n",
       "    <tr>\n",
       "      <th>1</th>\n",
       "      <td>Bob</td>\n",
       "      <td>Engineer</td>\n",
       "    </tr>\n",
       "    <tr>\n",
       "      <th>2</th>\n",
       "      <td>Cara</td>\n",
       "      <td>Sales Rep</td>\n",
       "    </tr>\n",
       "    <tr>\n",
       "      <th>3</th>\n",
       "      <td>Dan</td>\n",
       "      <td>Sales Rep</td>\n",
       "    </tr>\n",
       "    <tr>\n",
       "      <th>4</th>\n",
       "      <td>Ella</td>\n",
       "      <td>HR Generalist</td>\n",
       "    </tr>\n",
       "  </tbody>\n",
       "</table>\n",
       "</div>"
      ],
      "text/plain": [
       "    name          title\n",
       "0  Alice       Engineer\n",
       "1    Bob       Engineer\n",
       "2   Cara      Sales Rep\n",
       "3    Dan      Sales Rep\n",
       "4   Ella  HR Generalist"
      ]
     },
     "execution_count": 2,
     "metadata": {},
     "output_type": "execute_result"
    }
   ],
   "source": [
    "# ASSIGNMENT CELL: Q1\n",
    "\n",
    "# your query starts here\n",
    "query = \"\"\"\n",
    "SELECT name, title \n",
    "FROM employees \n",
    "ORDER BY name ASC;\n",
    "\"\"\"\n",
    "# your query ends here\n",
    "\n",
    "a1 = pd.read_sql_query(query, conn)\n",
    "a1"
   ]
  },
  {
   "cell_type": "markdown",
   "metadata": {},
   "source": [
    "### Task A2 — INNER JOIN\n",
    "Return employee name, department name (use alias `dept`) for all employees."
   ]
  },
  {
   "cell_type": "code",
   "execution_count": 3,
   "metadata": {},
   "outputs": [
    {
     "data": {
      "text/html": [
       "<div>\n",
       "<style scoped>\n",
       "    .dataframe tbody tr th:only-of-type {\n",
       "        vertical-align: middle;\n",
       "    }\n",
       "\n",
       "    .dataframe tbody tr th {\n",
       "        vertical-align: top;\n",
       "    }\n",
       "\n",
       "    .dataframe thead th {\n",
       "        text-align: right;\n",
       "    }\n",
       "</style>\n",
       "<table border=\"1\" class=\"dataframe\">\n",
       "  <thead>\n",
       "    <tr style=\"text-align: right;\">\n",
       "      <th></th>\n",
       "      <th>name</th>\n",
       "      <th>dept</th>\n",
       "    </tr>\n",
       "  </thead>\n",
       "  <tbody>\n",
       "    <tr>\n",
       "      <th>0</th>\n",
       "      <td>Alice</td>\n",
       "      <td>Engineering</td>\n",
       "    </tr>\n",
       "    <tr>\n",
       "      <th>1</th>\n",
       "      <td>Bob</td>\n",
       "      <td>Engineering</td>\n",
       "    </tr>\n",
       "    <tr>\n",
       "      <th>2</th>\n",
       "      <td>Cara</td>\n",
       "      <td>Sales</td>\n",
       "    </tr>\n",
       "    <tr>\n",
       "      <th>3</th>\n",
       "      <td>Dan</td>\n",
       "      <td>Sales</td>\n",
       "    </tr>\n",
       "    <tr>\n",
       "      <th>4</th>\n",
       "      <td>Ella</td>\n",
       "      <td>HR</td>\n",
       "    </tr>\n",
       "  </tbody>\n",
       "</table>\n",
       "</div>"
      ],
      "text/plain": [
       "    name         dept\n",
       "0  Alice  Engineering\n",
       "1    Bob  Engineering\n",
       "2   Cara        Sales\n",
       "3    Dan        Sales\n",
       "4   Ella           HR"
      ]
     },
     "execution_count": 3,
     "metadata": {},
     "output_type": "execute_result"
    }
   ],
   "source": [
    "# ASSIGNMENT CELL: Q2\n",
    "\n",
    "# your query starts here\n",
    "query = \"\"\"\n",
    "SELECT e.name, d.name AS dept \n",
    "FROM employees e JOIN departments d ON e.dept_id=d.id;\n",
    "\"\"\"\n",
    "# your query ends here\n",
    "\n",
    "a2 = pd.read_sql_query(query, conn)\n",
    "a2"
   ]
  },
  {
   "cell_type": "markdown",
   "metadata": {},
   "source": [
    "### Task A3 — Aggregation\n",
    "Compute average salary by department. Show columns: `department`, `avg_salary`. Sort by `avg_salary` descending."
   ]
  },
  {
   "cell_type": "code",
   "execution_count": 4,
   "metadata": {},
   "outputs": [
    {
     "data": {
      "text/html": [
       "<div>\n",
       "<style scoped>\n",
       "    .dataframe tbody tr th:only-of-type {\n",
       "        vertical-align: middle;\n",
       "    }\n",
       "\n",
       "    .dataframe tbody tr th {\n",
       "        vertical-align: top;\n",
       "    }\n",
       "\n",
       "    .dataframe thead th {\n",
       "        text-align: right;\n",
       "    }\n",
       "</style>\n",
       "<table border=\"1\" class=\"dataframe\">\n",
       "  <thead>\n",
       "    <tr style=\"text-align: right;\">\n",
       "      <th></th>\n",
       "      <th>department</th>\n",
       "      <th>avg_salary</th>\n",
       "    </tr>\n",
       "  </thead>\n",
       "  <tbody>\n",
       "    <tr>\n",
       "      <th>0</th>\n",
       "      <td>Engineering</td>\n",
       "      <td>101500.0</td>\n",
       "    </tr>\n",
       "    <tr>\n",
       "      <th>1</th>\n",
       "      <td>Sales</td>\n",
       "      <td>89000.0</td>\n",
       "    </tr>\n",
       "    <tr>\n",
       "      <th>2</th>\n",
       "      <td>HR</td>\n",
       "      <td>78000.0</td>\n",
       "    </tr>\n",
       "  </tbody>\n",
       "</table>\n",
       "</div>"
      ],
      "text/plain": [
       "    department  avg_salary\n",
       "0  Engineering    101500.0\n",
       "1        Sales     89000.0\n",
       "2           HR     78000.0"
      ]
     },
     "execution_count": 4,
     "metadata": {},
     "output_type": "execute_result"
    }
   ],
   "source": [
    "# ASSIGNMENT CELL: Q3\n",
    "\n",
    "# your query starts here\n",
    "query = \"\"\"\n",
    "SELECT d.name AS department, AVG(e.salary) AS avg_salary\n",
    "FROM employees e JOIN departments d ON e.dept_id=d.id\n",
    "GROUP BY d.name\n",
    "ORDER BY avg_salary DESC;\n",
    "\"\"\"\n",
    "# your query ends here\n",
    "\n",
    "a3 = pd.read_sql_query(query, conn)\n",
    "a3"
   ]
  },
  {
   "cell_type": "markdown",
   "metadata": {},
   "source": [
    "### Task A4 — HAVING\n",
    "Total sales revenue by sales rep. Only include reps with total revenue ≥ 2000. Columns: `rep`, `total_revenue`."
   ]
  },
  {
   "cell_type": "code",
   "execution_count": 5,
   "metadata": {},
   "outputs": [
    {
     "data": {
      "text/html": [
       "<div>\n",
       "<style scoped>\n",
       "    .dataframe tbody tr th:only-of-type {\n",
       "        vertical-align: middle;\n",
       "    }\n",
       "\n",
       "    .dataframe tbody tr th {\n",
       "        vertical-align: top;\n",
       "    }\n",
       "\n",
       "    .dataframe thead th {\n",
       "        text-align: right;\n",
       "    }\n",
       "</style>\n",
       "<table border=\"1\" class=\"dataframe\">\n",
       "  <thead>\n",
       "    <tr style=\"text-align: right;\">\n",
       "      <th></th>\n",
       "      <th>rep</th>\n",
       "      <th>total_revenue</th>\n",
       "    </tr>\n",
       "  </thead>\n",
       "  <tbody>\n",
       "    <tr>\n",
       "      <th>0</th>\n",
       "      <td>Cara</td>\n",
       "      <td>3950.0</td>\n",
       "    </tr>\n",
       "    <tr>\n",
       "      <th>1</th>\n",
       "      <td>Dan</td>\n",
       "      <td>2700.0</td>\n",
       "    </tr>\n",
       "  </tbody>\n",
       "</table>\n",
       "</div>"
      ],
      "text/plain": [
       "    rep  total_revenue\n",
       "0  Cara         3950.0\n",
       "1   Dan         2700.0"
      ]
     },
     "execution_count": 5,
     "metadata": {},
     "output_type": "execute_result"
    }
   ],
   "source": [
    "# ASSIGNMENT CELL: Q4\n",
    "\n",
    "# your query starts here\n",
    "query = \"\"\"\n",
    "SELECT e.name AS rep, SUM(s.amount) AS total_revenue\n",
    "FROM employees e JOIN sales s ON e.id=s.emp_id\n",
    "GROUP BY e.name\n",
    "HAVING total_revenue>=2000\n",
    "ORDER BY total_revenue DESC;\n",
    "\"\"\"\n",
    "# your query ends here\n",
    "\n",
    "a4 = pd.read_sql_query(query, conn)\n",
    "a4"
   ]
  },
  {
   "cell_type": "markdown",
   "metadata": {},
   "source": [
    "### Task A5 — Window-like ranking (SQLite workaround)\n",
    "Get top 2 sales by amount across all reps. Show `rep`, `item`, `amount`.  \n",
    "Hint: You can get top 2 by ordering and using `LIMIT 2`."
   ]
  },
  {
   "cell_type": "code",
   "execution_count": 6,
   "metadata": {},
   "outputs": [
    {
     "data": {
      "text/html": [
       "<div>\n",
       "<style scoped>\n",
       "    .dataframe tbody tr th:only-of-type {\n",
       "        vertical-align: middle;\n",
       "    }\n",
       "\n",
       "    .dataframe tbody tr th {\n",
       "        vertical-align: top;\n",
       "    }\n",
       "\n",
       "    .dataframe thead th {\n",
       "        text-align: right;\n",
       "    }\n",
       "</style>\n",
       "<table border=\"1\" class=\"dataframe\">\n",
       "  <thead>\n",
       "    <tr style=\"text-align: right;\">\n",
       "      <th></th>\n",
       "      <th>rep</th>\n",
       "      <th>item</th>\n",
       "      <th>amount</th>\n",
       "    </tr>\n",
       "  </thead>\n",
       "  <tbody>\n",
       "    <tr>\n",
       "      <th>0</th>\n",
       "      <td>Dan</td>\n",
       "      <td>Widget-C</td>\n",
       "      <td>2200.0</td>\n",
       "    </tr>\n",
       "    <tr>\n",
       "      <th>1</th>\n",
       "      <td>Cara</td>\n",
       "      <td>Widget-C</td>\n",
       "      <td>1800.0</td>\n",
       "    </tr>\n",
       "  </tbody>\n",
       "</table>\n",
       "</div>"
      ],
      "text/plain": [
       "    rep      item  amount\n",
       "0   Dan  Widget-C  2200.0\n",
       "1  Cara  Widget-C  1800.0"
      ]
     },
     "execution_count": 6,
     "metadata": {},
     "output_type": "execute_result"
    }
   ],
   "source": [
    "# ASSIGNMENT CELL: Q5\n",
    "\n",
    "# your query starts here\n",
    "query = \"\"\"\n",
    "SELECT e.name AS rep, s.item, s.amount\n",
    "FROM sales s JOIN employees e ON s.emp_id=e.id\n",
    "ORDER BY s.amount DESC\n",
    "LIMIT 2;\n",
    "\"\"\"\n",
    "# your query ends here\n",
    "\n",
    "a5 = pd.read_sql_query(query, conn)\n",
    "a5"
   ]
  },
  {
   "cell_type": "markdown",
   "metadata": {},
   "source": [
    "---\n",
    "## Part B — MongoDB with PyMongo\n",
    "You will perform `find()` queries and aggregation pipelines."
   ]
  },
  {
   "cell_type": "code",
   "execution_count": 7,
   "metadata": {},
   "outputs": [
    {
     "name": "stdout",
     "output_type": "stream",
     "text": [
      "MongoDB ready. Collections: users, orders, products\n"
     ]
    }
   ],
   "source": [
    "# ASSIGNMENT CELL: SETUP\n",
    "# connect to MongoDB and seed sample data\n",
    "import mongomock\n",
    "client = mongomock.MongoClient()\n",
    "db = client['module6']\n",
    "users = db['users']\n",
    "orders = db['orders']\n",
    "products = db['products']\n",
    "users.delete_many({}); orders.delete_many({}); products.delete_many({})\n",
    "products.insert_many([\n",
    "  {\"_id\": 101, \"sku\": \"A-100\", \"name\": \"Widget-A\", \"price\": 25.0},\n",
    "  {\"_id\": 102, \"sku\": \"B-200\", \"name\": \"Widget-B\", \"price\": 40.0},\n",
    "  {\"_id\": 103, \"sku\": \"C-300\", \"name\": \"Widget-C\", \"price\": 55.0}\n",
    "])\n",
    "users.insert_many([\n",
    "  {\"_id\": 1, \"name\": \"Alice\", \"city\": \"NY\", \"age\": 29, \"tags\": [\"python\",\"sql\"]},\n",
    "  {\"_id\": 2, \"name\": \"Bob\", \"city\": \"LA\", \"age\": 41, \"tags\": [\"sales\"]},\n",
    "  {\"_id\": 3, \"name\": \"Cara\", \"city\": \"NY\", \"age\": 35, \"tags\": [\"python\",\"mongodb\"]}\n",
    "])\n",
    "orders.insert_many([\n",
    "  {\"_id\": 5001, \"user_id\": 1, \"items\": [{\"product_id\": 101, \"qty\": 2}, {\"product_id\": 102, \"qty\": 1}], \"status\": \"shipped\"},\n",
    "  {\"_id\": 5002, \"user_id\": 2, \"items\": [{\"product_id\": 103, \"qty\": 1}], \"status\": \"processing\"},\n",
    "  {\"_id\": 5003, \"user_id\": 3, \"items\": [{\"product_id\": 101, \"qty\": 1}, {\"product_id\": 103, \"qty\": 2}], \"status\": \"delivered\"}\n",
    "])\n",
    "print('MongoDB ready. Collections: users, orders, products')\n"
   ]
  },
  {
   "cell_type": "markdown",
   "metadata": {},
   "source": [
    "### Task B1 — Basic `find()`\n",
    "Return users aged ≥ 30 who live in `NY`. Project only `name` and `age` (exclude `_id`). Sort by `age` descending."
   ]
  },
  {
   "cell_type": "code",
   "execution_count": 8,
   "metadata": {},
   "outputs": [
    {
     "data": {
      "text/html": [
       "<div>\n",
       "<style scoped>\n",
       "    .dataframe tbody tr th:only-of-type {\n",
       "        vertical-align: middle;\n",
       "    }\n",
       "\n",
       "    .dataframe tbody tr th {\n",
       "        vertical-align: top;\n",
       "    }\n",
       "\n",
       "    .dataframe thead th {\n",
       "        text-align: right;\n",
       "    }\n",
       "</style>\n",
       "<table border=\"1\" class=\"dataframe\">\n",
       "  <thead>\n",
       "    <tr style=\"text-align: right;\">\n",
       "      <th></th>\n",
       "      <th>name</th>\n",
       "      <th>age</th>\n",
       "    </tr>\n",
       "  </thead>\n",
       "  <tbody>\n",
       "    <tr>\n",
       "      <th>0</th>\n",
       "      <td>Cara</td>\n",
       "      <td>35</td>\n",
       "    </tr>\n",
       "  </tbody>\n",
       "</table>\n",
       "</div>"
      ],
      "text/plain": [
       "   name  age\n",
       "0  Cara   35"
      ]
     },
     "execution_count": 8,
     "metadata": {},
     "output_type": "execute_result"
    }
   ],
   "source": [
    "# ASSIGNMENT CELL: Q6\n",
    "\n",
    "# your query starts here\n",
    "cursor = users.find(\n",
    "    {'age':{'$gte':30}, 'city':'NY'}, \n",
    "    {'_id':0,'name':1,'age':1}\n",
    ").sort('age', -1)\n",
    "# your query ends here\n",
    "\n",
    "b1 = pd.DataFrame(list(cursor))\n",
    "b1"
   ]
  },
  {
   "cell_type": "markdown",
   "metadata": {},
   "source": [
    "### Task B2 — `$in`, `$and`\n",
    "Return users whose `city` is in {`NY`, `LA`} and who have the tag `python`."
   ]
  },
  {
   "cell_type": "code",
   "execution_count": 9,
   "metadata": {},
   "outputs": [
    {
     "data": {
      "text/html": [
       "<div>\n",
       "<style scoped>\n",
       "    .dataframe tbody tr th:only-of-type {\n",
       "        vertical-align: middle;\n",
       "    }\n",
       "\n",
       "    .dataframe tbody tr th {\n",
       "        vertical-align: top;\n",
       "    }\n",
       "\n",
       "    .dataframe thead th {\n",
       "        text-align: right;\n",
       "    }\n",
       "</style>\n",
       "<table border=\"1\" class=\"dataframe\">\n",
       "  <thead>\n",
       "    <tr style=\"text-align: right;\">\n",
       "      <th></th>\n",
       "      <th>_id</th>\n",
       "      <th>name</th>\n",
       "      <th>city</th>\n",
       "      <th>age</th>\n",
       "      <th>tags</th>\n",
       "    </tr>\n",
       "  </thead>\n",
       "  <tbody>\n",
       "    <tr>\n",
       "      <th>0</th>\n",
       "      <td>1</td>\n",
       "      <td>Alice</td>\n",
       "      <td>NY</td>\n",
       "      <td>29</td>\n",
       "      <td>[python, sql]</td>\n",
       "    </tr>\n",
       "    <tr>\n",
       "      <th>1</th>\n",
       "      <td>3</td>\n",
       "      <td>Cara</td>\n",
       "      <td>NY</td>\n",
       "      <td>35</td>\n",
       "      <td>[python, mongodb]</td>\n",
       "    </tr>\n",
       "  </tbody>\n",
       "</table>\n",
       "</div>"
      ],
      "text/plain": [
       "   _id   name city  age               tags\n",
       "0    1  Alice   NY   29      [python, sql]\n",
       "1    3   Cara   NY   35  [python, mongodb]"
      ]
     },
     "execution_count": 9,
     "metadata": {},
     "output_type": "execute_result"
    }
   ],
   "source": [
    "# ASSIGNMENT CELL: Q7\n",
    "\n",
    "# your query starts here\n",
    "cursor = users.find(\n",
    "    {\n",
    "        'city':{'$in':['NY','LA']}, \n",
    "        'tags':{'$in':['python']}\n",
    "    }\n",
    ")\n",
    "# your query ends here\n",
    "\n",
    "b2 = pd.DataFrame(list(cursor))\n",
    "b2"
   ]
  },
  {
   "cell_type": "markdown",
   "metadata": {},
   "source": [
    "### Task B3 — Aggregation: average age by city\n",
    "Pipeline: `$match` (age ≥ 30) → `$group` by `city` with `avgAge: {$avg: \"$age\"}` → `$project` city and `avgAge`."
   ]
  },
  {
   "cell_type": "code",
   "execution_count": 10,
   "metadata": {},
   "outputs": [
    {
     "data": {
      "text/html": [
       "<div>\n",
       "<style scoped>\n",
       "    .dataframe tbody tr th:only-of-type {\n",
       "        vertical-align: middle;\n",
       "    }\n",
       "\n",
       "    .dataframe tbody tr th {\n",
       "        vertical-align: top;\n",
       "    }\n",
       "\n",
       "    .dataframe thead th {\n",
       "        text-align: right;\n",
       "    }\n",
       "</style>\n",
       "<table border=\"1\" class=\"dataframe\">\n",
       "  <thead>\n",
       "    <tr style=\"text-align: right;\">\n",
       "      <th></th>\n",
       "      <th>city</th>\n",
       "      <th>avgAge</th>\n",
       "    </tr>\n",
       "  </thead>\n",
       "  <tbody>\n",
       "    <tr>\n",
       "      <th>0</th>\n",
       "      <td>LA</td>\n",
       "      <td>41.0</td>\n",
       "    </tr>\n",
       "    <tr>\n",
       "      <th>1</th>\n",
       "      <td>NY</td>\n",
       "      <td>35.0</td>\n",
       "    </tr>\n",
       "  </tbody>\n",
       "</table>\n",
       "</div>"
      ],
      "text/plain": [
       "  city  avgAge\n",
       "0   LA    41.0\n",
       "1   NY    35.0"
      ]
     },
     "execution_count": 10,
     "metadata": {},
     "output_type": "execute_result"
    }
   ],
   "source": [
    "# ASSIGNMENT CELL: Q8\n",
    "\n",
    "# your query starts here\n",
    "cursor = users.aggregate([\n",
    "  {'$match':{'age':{'$gte':30}}},\n",
    "  {'$group':{'_id':'$city','avgAge':{'$avg':'$age'}}},\n",
    "  {'$project':{'_id':0,'city':'$_id','avgAge': '$avgAge'}}\n",
    "])\n",
    "# your query ends here\n",
    "\n",
    "b3 = pd.DataFrame(list(cursor))\n",
    "b3"
   ]
  },
  {
   "cell_type": "markdown",
   "metadata": {},
   "source": [
    "### Task B4 — Join-like aggregation with `$lookup`\n",
    "For each SKU, compute total quantity and total revenue across all orders.\n",
    "\n",
    "Pipeline hint:\n",
    "1. `$unwind: \"$items\"`\n",
    "2. `$lookup` to `products` on `items.product_id = _id`\n",
    "3. `$unwind: \"$prod\"`\n",
    "4. `$group` by `$prod.sku` with fields: `qty: {$sum: \"$items.qty\"}`, `revenue: {$sum: {$multiply: [\"$items.qty\", \"$prod.price\"]}}`\n",
    "5. `$project` as `{_id: 0, sku: \"$_id\", qty: 1, revenue: 1}`\n"
   ]
  },
  {
   "cell_type": "code",
   "execution_count": 11,
   "metadata": {},
   "outputs": [
    {
     "data": {
      "text/html": [
       "<div>\n",
       "<style scoped>\n",
       "    .dataframe tbody tr th:only-of-type {\n",
       "        vertical-align: middle;\n",
       "    }\n",
       "\n",
       "    .dataframe tbody tr th {\n",
       "        vertical-align: top;\n",
       "    }\n",
       "\n",
       "    .dataframe thead th {\n",
       "        text-align: right;\n",
       "    }\n",
       "</style>\n",
       "<table border=\"1\" class=\"dataframe\">\n",
       "  <thead>\n",
       "    <tr style=\"text-align: right;\">\n",
       "      <th></th>\n",
       "      <th>qty</th>\n",
       "      <th>revenue</th>\n",
       "      <th>sku</th>\n",
       "    </tr>\n",
       "  </thead>\n",
       "  <tbody>\n",
       "    <tr>\n",
       "      <th>0</th>\n",
       "      <td>3</td>\n",
       "      <td>75.0</td>\n",
       "      <td>A-100</td>\n",
       "    </tr>\n",
       "    <tr>\n",
       "      <th>1</th>\n",
       "      <td>1</td>\n",
       "      <td>40.0</td>\n",
       "      <td>B-200</td>\n",
       "    </tr>\n",
       "    <tr>\n",
       "      <th>2</th>\n",
       "      <td>3</td>\n",
       "      <td>165.0</td>\n",
       "      <td>C-300</td>\n",
       "    </tr>\n",
       "  </tbody>\n",
       "</table>\n",
       "</div>"
      ],
      "text/plain": [
       "   qty  revenue    sku\n",
       "0    3     75.0  A-100\n",
       "1    1     40.0  B-200\n",
       "2    3    165.0  C-300"
      ]
     },
     "execution_count": 11,
     "metadata": {},
     "output_type": "execute_result"
    }
   ],
   "source": [
    "# ASSIGNMENT CELL: Q9\n",
    "\n",
    "# your query starts here\n",
    "cursor = orders.aggregate([\n",
    "  {'$unwind':'$items'},\n",
    "  {'$lookup':{'from':'products','localField':'items.product_id','foreignField':'_id','as':'prod'}},\n",
    "  {'$unwind':'$prod'},\n",
    "  {'$group':{'_id':'$prod.sku','qty':{'$sum':'$items.qty'},'revenue':{'$sum':{'$multiply':['$items.qty','$prod.price']}}}},\n",
    "  {'$project':{'_id':0,'sku':'$_id','qty':1,'revenue':1}},\n",
    "  {'$sort':{'sku':1}}\n",
    "])\n",
    "# your query ends here\n",
    "\n",
    "b4 = pd.DataFrame(list(cursor))\n",
    "b4"
   ]
  }
 ],
 "metadata": {
  "kernelspec": {
   "display_name": "Python 3",
   "language": "python",
   "name": "python3"
  },
  "language_info": {
   "codemirror_mode": {
    "name": "ipython",
    "version": 3
   },
   "file_extension": ".py",
   "mimetype": "text/x-python",
   "name": "python",
   "nbconvert_exporter": "python",
   "pygments_lexer": "ipython3",
   "version": "3.12.11"
  }
 },
 "nbformat": 4,
 "nbformat_minor": 5
}
