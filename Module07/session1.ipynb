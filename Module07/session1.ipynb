{
 "cells": [
  {
   "cell_type": "markdown",
   "id": "6ad08f6e",
   "metadata": {},
   "source": [
    "# Module 7 — Tidying I\n",
    "Reshaping with `melt/pivot/stack/unstack` and handling missing values.\n"
   ]
  },
  {
   "cell_type": "code",
   "execution_count": null,
   "id": "16bf591d",
   "metadata": {},
   "outputs": [],
   "source": [
    "import pandas as pd\n",
    "import numpy as np\n",
    "from pathlib import Path\n",
    "pd.set_option('display.max_rows', 20)\n",
    "pd.set_option('display.width', 120)\n",
    "pd.__version__"
   ]
  },
  {
   "cell_type": "markdown",
   "id": "6301cc71",
   "metadata": {},
   "source": [
    "## 1) Starter datasets"
   ]
  },
  {
   "cell_type": "code",
   "execution_count": null,
   "id": "6b3f96cd",
   "metadata": {},
   "outputs": [],
   "source": [
    "# Wide quarterly sales dataset with missing values\n",
    "sales_wide = pd.DataFrame({\n",
    "    'id':[1,2,3,4],\n",
    "    'product':['A','B','C','B'],\n",
    "    'q1':[100,  90,  50, np.nan],\n",
    "    'q2':[120, np.nan, 60, 130],\n",
    "    'q3':[130, 110,  70, 140],\n",
    "    'q4':[140, 120, np.nan, 150],\n",
    "})\n",
    "sales_wide"
   ]
  },
  {
   "cell_type": "code",
   "execution_count": null,
   "id": "6e7b9228",
   "metadata": {},
   "outputs": [],
   "source": [
    "# MultiIndex-style summary from a pivot_table to use with stack/unstack\n",
    "rng = pd.MultiIndex.from_product([\n",
    "    ['East','West'],\n",
    "    ['A','B'],\n",
    "    ['q1','q2','q3']\n",
    "], names=['region','product','quarter'])\n",
    "np.random.seed(7)\n",
    "summary_long = pd.DataFrame({\n",
    "    'metric':'sales',\n",
    "    'value': np.random.randint(50, 200, len(rng))\n",
    "}, index=rng).reset_index()\n",
    "summary_long.head()"
   ]
  },
  {
   "cell_type": "markdown",
   "id": "e3f1420b",
   "metadata": {},
   "source": [
    "## 2) Melt — wide → long"
   ]
  },
  {
   "cell_type": "code",
   "execution_count": null,
   "id": "159afd11",
   "metadata": {},
   "outputs": [],
   "source": [
    "sales_long = pd.melt(\n",
    "    sales_wide,\n",
    "    id_vars=['id','product'],\n",
    "    var_name='quarter',\n",
    "    value_name='sales'\n",
    ")\n",
    "sales_long.sort_values(['id','quarter']).head(10)"
   ]
  },
  {
   "cell_type": "markdown",
   "id": "2914a377",
   "metadata": {},
   "source": [
    "## 3) Pivot — long → wide"
   ]
  },
  {
   "cell_type": "code",
   "execution_count": null,
   "id": "b913c460",
   "metadata": {},
   "outputs": [],
   "source": [
    "sales_pivot = sales_long.pivot(index=['id','product'], columns='quarter', values='sales').reset_index()\n",
    "sales_pivot"
   ]
  },
  {
   "cell_type": "markdown",
   "id": "51192bce",
   "metadata": {},
   "source": [
    "## 4) pivot_table with aggregation"
   ]
  },
  {
   "cell_type": "code",
   "execution_count": null,
   "id": "45a0dadb",
   "metadata": {},
   "outputs": [],
   "source": [
    "# If duplicates exist, pivot_table handles them via aggfunc\n",
    "dupes = pd.concat([sales_long, sales_long.iloc[:4]], ignore_index=True)\n",
    "pt = pd.pivot_table(dupes, index=['id','product'], columns='quarter', values='sales', aggfunc='mean')\n",
    "pt"
   ]
  },
  {
   "cell_type": "markdown",
   "id": "a5530f1b",
   "metadata": {},
   "source": [
    "## 5) Stack and Unstack"
   ]
  },
  {
   "cell_type": "code",
   "execution_count": null,
   "id": "9331addf",
   "metadata": {},
   "outputs": [],
   "source": [
    "# Build a wide table with MultiIndex columns to demonstrate stack\n",
    "pt_multi = pd.pivot_table(\n",
    "    summary_long,\n",
    "    index=['region','product'],\n",
    "    columns=['quarter','metric'],\n",
    "    values='value',\n",
    "    aggfunc='sum'\n",
    ")\n",
    "pt_multi"
   ]
  },
  {
   "cell_type": "code",
   "execution_count": null,
   "id": "16ca82d3",
   "metadata": {},
   "outputs": [],
   "source": [
    "# Stack selected column levels into rows → long tidy table\n",
    "tidy_from_multi = (\n",
    "    pt_multi.stack(['quarter','metric'], future_stack=True)\n",
    "           .rename('value')\n",
    "           .reset_index()\n",
    ")\n",
    "tidy_from_multi.head()"
   ]
  },
  {
   "cell_type": "code",
   "execution_count": null,
   "id": "148d75d8",
   "metadata": {},
   "outputs": [],
   "source": [
    "# Unstack: long → wide by chosen index level\n",
    "long_idx = tidy_from_multi.set_index(['region','product','quarter','metric'])\n",
    "wide_again = long_idx['value'].unstack(['quarter'])\n",
    "wide_again.head()"
   ]
  },
  {
   "cell_type": "code",
   "execution_count": null,
   "id": "b41b0d3b",
   "metadata": {},
   "outputs": [],
   "source": [
    "# Utility: flatten MultiIndex columns if needed\n",
    "def flatten_columns(df):\n",
    "    if isinstance(df.columns, pd.MultiIndex):\n",
    "        df = df.copy()\n",
    "        df.columns = ['_'.join(map(str, c)).strip('_') for c in df.columns]\n",
    "    return df"
   ]
  },
  {
   "cell_type": "code",
   "execution_count": null,
   "id": "d78f5bd7",
   "metadata": {},
   "outputs": [],
   "source": [
    "flatten_columns(wide_again).head()"
   ]
  },
  {
   "cell_type": "markdown",
   "id": "3e0ba733",
   "metadata": {},
   "source": [
    "## 6) Missing values — detection and strategies"
   ]
  },
  {
   "cell_type": "code",
   "execution_count": null,
   "id": "5714226d",
   "metadata": {},
   "outputs": [],
   "source": [
    "# Detect\n",
    "sales_long.isna().sum(), sales_long.info()"
   ]
  },
  {
   "cell_type": "code",
   "execution_count": null,
   "id": "0391ca27",
   "metadata": {},
   "outputs": [],
   "source": [
    "# Strategy 1: simple fill with 0\n",
    "filled0 = sales_long.assign(sales=lambda d: d['sales'].fillna(0))\n",
    "filled0.head(8)"
   ]
  },
  {
   "cell_type": "code",
   "execution_count": null,
   "id": "df631736",
   "metadata": {},
   "outputs": [],
   "source": [
    "# Strategy 2: impute per-product mean using groupby.transform\n",
    "imputed_by_product = sales_long.copy()\n",
    "imputed_by_product['sales'] = (\n",
    "    imputed_by_product.groupby('product')['sales']\n",
    "                      .transform(lambda s: s.fillna(s.mean()))\n",
    ")\n",
    "imputed_by_product.sort_values(['product','id','quarter']).head(12)"
   ]
  },
  {
   "cell_type": "code",
   "execution_count": null,
   "id": "a31a4f80",
   "metadata": {},
   "outputs": [],
   "source": [
    "# Strategy 3: forward/backward fill within each id across ordered quarters\n",
    "order = {'q1':1,'q2':2,'q3':3,'q4':4}\n",
    "ffill_bfill = (\n",
    "    sales_long.assign(q_order=lambda d: d['quarter'].map(order))\n",
    "              .sort_values(['id','q_order'])\n",
    "              .groupby('id', as_index=False, group_keys=False)\n",
    "              .apply(lambda g: g.assign(sales=g['sales'].ffill().bfill()), include_groups=False)\n",
    "              .drop(columns='q_order')\n",
    ")\n",
    "ffill_bfill.head(12)"
   ]
  },
  {
   "cell_type": "code",
   "execution_count": null,
   "id": "92edcd8b",
   "metadata": {},
   "outputs": [],
   "source": [
    "# Strategy 4: time-series interpolate example\n",
    "date_rng = pd.date_range('2024-01-01', periods=8, freq='W')\n",
    "ts = pd.DataFrame({'date': date_rng, 'value':[1.0, np.nan, 2.5, np.nan, np.nan, 5.0, 6.0, np.nan]})\n",
    "ts_interp = ts.set_index('date').interpolate().reset_index()\n",
    "ts, ts_interp"
   ]
  },
  {
   "cell_type": "markdown",
   "id": "250ff833",
   "metadata": {},
   "source": [
    "## 7) Integrity checks and assertions"
   ]
  },
  {
   "cell_type": "code",
   "execution_count": null,
   "id": "692375d6",
   "metadata": {},
   "outputs": [],
   "source": [
    "# Example integrity rules\n",
    "assert sales_long['id'].notna().all(), 'IDs should not be missing'\n",
    "assert set(sales_long['quarter'].dropna().unique()) <= {'q1','q2','q3','q4'}\n",
    "sales_long.shape"
   ]
  },
  {
   "cell_type": "markdown",
   "id": "04d87d99",
   "metadata": {},
   "source": [
    "## 8) In-class exercises\n",
    "Each task should be solved in the cell provided. Keep solutions in method-chaining style when possible."
   ]
  },
  {
   "cell_type": "markdown",
   "id": "de70927a",
   "metadata": {},
   "source": [
    "### Exercise 1 — Melt and pivot back"
   ]
  },
  {
   "cell_type": "code",
   "execution_count": null,
   "id": "e5bc0f54",
   "metadata": {},
   "outputs": [],
   "source": [
    "# TODO: 1) From sales_wide, melt to long; 2) impute missing by product median; 3) pivot back to q1..q4 wide\n"
   ]
  },
  {
   "cell_type": "markdown",
   "id": "cd78f52c",
   "metadata": {},
   "source": [
    "### Exercise 2 — Stack/unstack with MultiIndex"
   ]
  },
  {
   "cell_type": "code",
   "execution_count": null,
   "id": "f56af2ca",
   "metadata": {},
   "outputs": [],
   "source": [
    "# TODO: Convert pt_multi to tidy long with stack on both levels then compute mean by region-product-quarter\n"
   ]
  },
  {
   "cell_type": "markdown",
   "id": "d8b2f2f9",
   "metadata": {},
   "source": [
    "### Exercise 3 — Missing-data report"
   ]
  },
  {
   "cell_type": "code",
   "execution_count": null,
   "id": "aa3595c0",
   "metadata": {},
   "outputs": [],
   "source": [
    "# TODO: Create a function missing_report(df) that returns a DataFrame with columns: col, n_missing, pct_missing\n"
   ]
  }
 ],
 "metadata": {
  "kernelspec": {
   "display_name": "Python 3",
   "language": "python",
   "name": "python3"
  },
  "language_info": {
   "codemirror_mode": {
    "name": "ipython",
    "version": 3
   },
   "file_extension": ".py",
   "mimetype": "text/x-python",
   "name": "python",
   "nbconvert_exporter": "python",
   "pygments_lexer": "ipython3",
   "version": "3.12.11"
  }
 },
 "nbformat": 4,
 "nbformat_minor": 5
}
