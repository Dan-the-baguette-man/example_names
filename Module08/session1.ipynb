{
 "cells": [
  {
   "cell_type": "markdown",
   "id": "b377e52c",
   "metadata": {},
   "source": [
    "# Tidying II: Deduplication, Type Consistency, & Categorical Integrity\n",
    "\n",
    "*Hands-on notebook with demos and exercises*"
   ]
  },
  {
   "cell_type": "markdown",
   "id": "2f939d39",
   "metadata": {},
   "source": [
    "## 0. Setup"
   ]
  },
  {
   "cell_type": "code",
   "execution_count": 1,
   "id": "1c7ecf89",
   "metadata": {},
   "outputs": [
    {
     "data": {
      "text/plain": [
       "'2.2.2'"
      ]
     },
     "execution_count": 1,
     "metadata": {},
     "output_type": "execute_result"
    }
   ],
   "source": [
    "import pandas as pd\n",
    "import numpy as np\n",
    "from pandas.api.types import CategoricalDtype\n",
    "pd.__version__"
   ]
  },
  {
   "cell_type": "markdown",
   "id": "c80c9097",
   "metadata": {},
   "source": [
    "## 1. Create Synthetic Datasets\n",
    "We will create small but realistic datasets with deliberate issues: duplicates, mixed types, messy categories."
   ]
  },
  {
   "cell_type": "code",
   "execution_count": 2,
   "id": "f87afbbb",
   "metadata": {},
   "outputs": [
    {
     "data": {
      "text/html": [
       "<div>\n",
       "<style scoped>\n",
       "    .dataframe tbody tr th:only-of-type {\n",
       "        vertical-align: middle;\n",
       "    }\n",
       "\n",
       "    .dataframe tbody tr th {\n",
       "        vertical-align: top;\n",
       "    }\n",
       "\n",
       "    .dataframe thead th {\n",
       "        text-align: right;\n",
       "    }\n",
       "</style>\n",
       "<table border=\"1\" class=\"dataframe\">\n",
       "  <thead>\n",
       "    <tr style=\"text-align: right;\">\n",
       "      <th></th>\n",
       "      <th>id</th>\n",
       "      <th>email</th>\n",
       "      <th>state</th>\n",
       "      <th>created_at</th>\n",
       "    </tr>\n",
       "  </thead>\n",
       "  <tbody>\n",
       "    <tr>\n",
       "      <th>0</th>\n",
       "      <td>101</td>\n",
       "      <td>a@x.com</td>\n",
       "      <td>tn</td>\n",
       "      <td>2025-09-01</td>\n",
       "    </tr>\n",
       "    <tr>\n",
       "      <th>1</th>\n",
       "      <td>101</td>\n",
       "      <td>A@x.com</td>\n",
       "      <td>TN</td>\n",
       "      <td>2025/09/01</td>\n",
       "    </tr>\n",
       "    <tr>\n",
       "      <th>2</th>\n",
       "      <td>102</td>\n",
       "      <td>b@x.com</td>\n",
       "      <td>GA</td>\n",
       "      <td>2025-09-05</td>\n",
       "    </tr>\n",
       "    <tr>\n",
       "      <th>3</th>\n",
       "      <td>103</td>\n",
       "      <td>c@x.com</td>\n",
       "      <td>ga</td>\n",
       "      <td>2025-09-07</td>\n",
       "    </tr>\n",
       "    <tr>\n",
       "      <th>4</th>\n",
       "      <td>103</td>\n",
       "      <td>c@x.com</td>\n",
       "      <td>GA</td>\n",
       "      <td>2025-09-07</td>\n",
       "    </tr>\n",
       "    <tr>\n",
       "      <th>5</th>\n",
       "      <td>104</td>\n",
       "      <td>d@x.com</td>\n",
       "      <td>AL</td>\n",
       "      <td>2025-09-10</td>\n",
       "    </tr>\n",
       "    <tr>\n",
       "      <th>6</th>\n",
       "      <td>105</td>\n",
       "      <td>e@x.com</td>\n",
       "      <td>Tn</td>\n",
       "      <td>2025-09-12</td>\n",
       "    </tr>\n",
       "  </tbody>\n",
       "</table>\n",
       "</div>"
      ],
      "text/plain": [
       "    id     email state  created_at\n",
       "0  101   a@x.com    tn  2025-09-01\n",
       "1  101  A@x.com    TN   2025/09/01\n",
       "2  102   b@x.com    GA  2025-09-05\n",
       "3  103   c@x.com    ga  2025-09-07\n",
       "4  103   c@x.com    GA  2025-09-07\n",
       "5  104   d@x.com    AL  2025-09-10\n",
       "6  105   e@x.com    Tn  2025-09-12"
      ]
     },
     "execution_count": 2,
     "metadata": {},
     "output_type": "execute_result"
    }
   ],
   "source": [
    "# Customers: duplicates, whitespace, case inconsistencies, and missing values\n",
    "customers = pd.DataFrame({\n",
    "    'id': [101, 101, 102, 103, 103, 104, 105],\n",
    "    'email': ['a@x.com', 'A@x.com ', 'b@x.com', 'c@x.com', 'c@x.com', 'd@x.com', ' e@x.com'],\n",
    "    'state': ['tn', 'TN ', 'GA', 'ga', 'GA', 'AL', 'Tn'],\n",
    "    'created_at': ['2025-09-01', '2025/09/01', '2025-09-05', '2025-09-07', '2025-09-07', '2025-09-10', '2025-09-12']\n",
    "})\n",
    "customers"
   ]
  },
  {
   "cell_type": "code",
   "execution_count": 3,
   "id": "feac9c06",
   "metadata": {},
   "outputs": [
    {
     "data": {
      "text/html": [
       "<div>\n",
       "<style scoped>\n",
       "    .dataframe tbody tr th:only-of-type {\n",
       "        vertical-align: middle;\n",
       "    }\n",
       "\n",
       "    .dataframe tbody tr th {\n",
       "        vertical-align: top;\n",
       "    }\n",
       "\n",
       "    .dataframe thead th {\n",
       "        text-align: right;\n",
       "    }\n",
       "</style>\n",
       "<table border=\"1\" class=\"dataframe\">\n",
       "  <thead>\n",
       "    <tr style=\"text-align: right;\">\n",
       "      <th></th>\n",
       "      <th>id</th>\n",
       "      <th>ts</th>\n",
       "      <th>price</th>\n",
       "      <th>status</th>\n",
       "    </tr>\n",
       "  </thead>\n",
       "  <tbody>\n",
       "    <tr>\n",
       "      <th>0</th>\n",
       "      <td>101</td>\n",
       "      <td>2025-09-02 10:00</td>\n",
       "      <td>$10.00</td>\n",
       "      <td>paid</td>\n",
       "    </tr>\n",
       "    <tr>\n",
       "      <th>1</th>\n",
       "      <td>101</td>\n",
       "      <td>2025-09-02 10:00</td>\n",
       "      <td>10</td>\n",
       "      <td>paid</td>\n",
       "    </tr>\n",
       "    <tr>\n",
       "      <th>2</th>\n",
       "      <td>101</td>\n",
       "      <td>2025-09-03 09:00</td>\n",
       "      <td>9.5</td>\n",
       "      <td>paid</td>\n",
       "    </tr>\n",
       "    <tr>\n",
       "      <th>3</th>\n",
       "      <td>102</td>\n",
       "      <td>2025-09-06 16:30</td>\n",
       "      <td>7.25</td>\n",
       "      <td>paid</td>\n",
       "    </tr>\n",
       "    <tr>\n",
       "      <th>4</th>\n",
       "      <td>103</td>\n",
       "      <td>2025-09-08 08:00</td>\n",
       "      <td>0</td>\n",
       "      <td>refunded</td>\n",
       "    </tr>\n",
       "    <tr>\n",
       "      <th>5</th>\n",
       "      <td>103</td>\n",
       "      <td>2025-09-08 08:00</td>\n",
       "      <td>free</td>\n",
       "      <td>refunded</td>\n",
       "    </tr>\n",
       "    <tr>\n",
       "      <th>6</th>\n",
       "      <td>106</td>\n",
       "      <td>2025-09-12 12:00</td>\n",
       "      <td>12.5</td>\n",
       "      <td>paid</td>\n",
       "    </tr>\n",
       "  </tbody>\n",
       "</table>\n",
       "</div>"
      ],
      "text/plain": [
       "    id                ts   price    status\n",
       "0  101  2025-09-02 10:00  $10.00      paid\n",
       "1  101  2025-09-02 10:00      10      paid\n",
       "2  101  2025-09-03 09:00     9.5      paid\n",
       "3  102  2025-09-06 16:30    7.25      paid\n",
       "4  103  2025-09-08 08:00       0  refunded\n",
       "5  103  2025-09-08 08:00    free  refunded\n",
       "6  106  2025-09-12 12:00    12.5      paid"
      ]
     },
     "execution_count": 3,
     "metadata": {},
     "output_type": "execute_result"
    }
   ],
   "source": [
    "# Transactions: partial duplicates by (id, ts), price as strings with symbols, and bad rows\n",
    "transactions = pd.DataFrame({\n",
    "    'id': [101, 101, 101, 102, 103, 103, 106],\n",
    "    'ts': ['2025-09-02 10:00', '2025-09-02 10:00', '2025-09-03 09:00', '2025-09-06 16:30', '2025-09-08 08:00', '2025-09-08 08:00', '2025-09-12 12:00'],\n",
    "    'price': ['$10.00', '10', '9.5', '7.25', '0', 'free', '12.5'],\n",
    "    'status': ['paid', 'paid', 'paid', 'paid', 'refunded', 'refunded', 'paid']\n",
    "})\n",
    "transactions"
   ]
  },
  {
   "cell_type": "markdown",
   "id": "d4ba57b3",
   "metadata": {},
   "source": [
    "## 2. Deduplication: Detecting Exact vs Partial Duplicates"
   ]
  },
  {
   "cell_type": "code",
   "execution_count": 4,
   "id": "6627b345",
   "metadata": {},
   "outputs": [
    {
     "data": {
      "text/html": [
       "<div>\n",
       "<style scoped>\n",
       "    .dataframe tbody tr th:only-of-type {\n",
       "        vertical-align: middle;\n",
       "    }\n",
       "\n",
       "    .dataframe tbody tr th {\n",
       "        vertical-align: top;\n",
       "    }\n",
       "\n",
       "    .dataframe thead th {\n",
       "        text-align: right;\n",
       "    }\n",
       "</style>\n",
       "<table border=\"1\" class=\"dataframe\">\n",
       "  <thead>\n",
       "    <tr style=\"text-align: right;\">\n",
       "      <th></th>\n",
       "      <th>id</th>\n",
       "      <th>ts</th>\n",
       "      <th>price</th>\n",
       "      <th>status</th>\n",
       "    </tr>\n",
       "  </thead>\n",
       "  <tbody>\n",
       "  </tbody>\n",
       "</table>\n",
       "</div>"
      ],
      "text/plain": [
       "Empty DataFrame\n",
       "Columns: [id, ts, price, status]\n",
       "Index: []"
      ]
     },
     "execution_count": 4,
     "metadata": {},
     "output_type": "execute_result"
    }
   ],
   "source": [
    "# Exact duplicates across all columns in transactions\n",
    "transactions_exact_dups_mask = transactions.duplicated(keep=False)\n",
    "transactions[transactions_exact_dups_mask]"
   ]
  },
  {
   "cell_type": "code",
   "execution_count": 5,
   "id": "64959e7b",
   "metadata": {},
   "outputs": [
    {
     "data": {
      "text/html": [
       "<div>\n",
       "<style scoped>\n",
       "    .dataframe tbody tr th:only-of-type {\n",
       "        vertical-align: middle;\n",
       "    }\n",
       "\n",
       "    .dataframe tbody tr th {\n",
       "        vertical-align: top;\n",
       "    }\n",
       "\n",
       "    .dataframe thead th {\n",
       "        text-align: right;\n",
       "    }\n",
       "</style>\n",
       "<table border=\"1\" class=\"dataframe\">\n",
       "  <thead>\n",
       "    <tr style=\"text-align: right;\">\n",
       "      <th></th>\n",
       "      <th>id</th>\n",
       "      <th>ts</th>\n",
       "      <th>price</th>\n",
       "      <th>status</th>\n",
       "    </tr>\n",
       "  </thead>\n",
       "  <tbody>\n",
       "    <tr>\n",
       "      <th>0</th>\n",
       "      <td>101</td>\n",
       "      <td>2025-09-02 10:00</td>\n",
       "      <td>$10.00</td>\n",
       "      <td>paid</td>\n",
       "    </tr>\n",
       "    <tr>\n",
       "      <th>1</th>\n",
       "      <td>101</td>\n",
       "      <td>2025-09-02 10:00</td>\n",
       "      <td>10</td>\n",
       "      <td>paid</td>\n",
       "    </tr>\n",
       "    <tr>\n",
       "      <th>4</th>\n",
       "      <td>103</td>\n",
       "      <td>2025-09-08 08:00</td>\n",
       "      <td>0</td>\n",
       "      <td>refunded</td>\n",
       "    </tr>\n",
       "    <tr>\n",
       "      <th>5</th>\n",
       "      <td>103</td>\n",
       "      <td>2025-09-08 08:00</td>\n",
       "      <td>free</td>\n",
       "      <td>refunded</td>\n",
       "    </tr>\n",
       "  </tbody>\n",
       "</table>\n",
       "</div>"
      ],
      "text/plain": [
       "    id                ts   price    status\n",
       "0  101  2025-09-02 10:00  $10.00      paid\n",
       "1  101  2025-09-02 10:00      10      paid\n",
       "4  103  2025-09-08 08:00       0  refunded\n",
       "5  103  2025-09-08 08:00    free  refunded"
      ]
     },
     "execution_count": 5,
     "metadata": {},
     "output_type": "execute_result"
    }
   ],
   "source": [
    "# Partial duplicates by a key subset: (id, ts)\n",
    "subset_cols = ['id', 'ts']\n",
    "dups_subset_mask = transactions.duplicated(subset=subset_cols, keep=False)\n",
    "transactions[dups_subset_mask].sort_values(subset_cols)"
   ]
  },
  {
   "cell_type": "markdown",
   "id": "14389b10",
   "metadata": {},
   "source": [
    "**Note:** `keep=False` marks all occurrences of a duplicate as `True`. Use it to inspect every row involved."
   ]
  },
  {
   "cell_type": "markdown",
   "id": "556be61a",
   "metadata": {},
   "source": [
    "## 3. Deduplication: Resolution Strategies"
   ]
  },
  {
   "cell_type": "code",
   "execution_count": 6,
   "id": "0843b540",
   "metadata": {},
   "outputs": [
    {
     "data": {
      "text/html": [
       "<div>\n",
       "<style scoped>\n",
       "    .dataframe tbody tr th:only-of-type {\n",
       "        vertical-align: middle;\n",
       "    }\n",
       "\n",
       "    .dataframe tbody tr th {\n",
       "        vertical-align: top;\n",
       "    }\n",
       "\n",
       "    .dataframe thead th {\n",
       "        text-align: right;\n",
       "    }\n",
       "</style>\n",
       "<table border=\"1\" class=\"dataframe\">\n",
       "  <thead>\n",
       "    <tr style=\"text-align: right;\">\n",
       "      <th></th>\n",
       "      <th>id</th>\n",
       "      <th>ts</th>\n",
       "      <th>price</th>\n",
       "      <th>status</th>\n",
       "    </tr>\n",
       "  </thead>\n",
       "  <tbody>\n",
       "    <tr>\n",
       "      <th>0</th>\n",
       "      <td>101</td>\n",
       "      <td>2025-09-02 10:00</td>\n",
       "      <td>$10.00</td>\n",
       "      <td>paid</td>\n",
       "    </tr>\n",
       "    <tr>\n",
       "      <th>2</th>\n",
       "      <td>101</td>\n",
       "      <td>2025-09-03 09:00</td>\n",
       "      <td>9.5</td>\n",
       "      <td>paid</td>\n",
       "    </tr>\n",
       "    <tr>\n",
       "      <th>3</th>\n",
       "      <td>102</td>\n",
       "      <td>2025-09-06 16:30</td>\n",
       "      <td>7.25</td>\n",
       "      <td>paid</td>\n",
       "    </tr>\n",
       "    <tr>\n",
       "      <th>4</th>\n",
       "      <td>103</td>\n",
       "      <td>2025-09-08 08:00</td>\n",
       "      <td>0</td>\n",
       "      <td>refunded</td>\n",
       "    </tr>\n",
       "    <tr>\n",
       "      <th>6</th>\n",
       "      <td>106</td>\n",
       "      <td>2025-09-12 12:00</td>\n",
       "      <td>12.5</td>\n",
       "      <td>paid</td>\n",
       "    </tr>\n",
       "  </tbody>\n",
       "</table>\n",
       "</div>"
      ],
      "text/plain": [
       "    id                ts   price    status\n",
       "0  101  2025-09-02 10:00  $10.00      paid\n",
       "2  101  2025-09-03 09:00     9.5      paid\n",
       "3  102  2025-09-06 16:30    7.25      paid\n",
       "4  103  2025-09-08 08:00       0  refunded\n",
       "6  106  2025-09-12 12:00    12.5      paid"
      ]
     },
     "execution_count": 6,
     "metadata": {},
     "output_type": "execute_result"
    }
   ],
   "source": [
    "# 3.1 Keep first occurrence by key\n",
    "tx_keep_first = transactions.drop_duplicates(subset=['id','ts'], keep='first')\n",
    "tx_keep_first"
   ]
  },
  {
   "cell_type": "code",
   "execution_count": 7,
   "id": "a3654736",
   "metadata": {},
   "outputs": [
    {
     "data": {
      "text/html": [
       "<div>\n",
       "<style scoped>\n",
       "    .dataframe tbody tr th:only-of-type {\n",
       "        vertical-align: middle;\n",
       "    }\n",
       "\n",
       "    .dataframe tbody tr th {\n",
       "        vertical-align: top;\n",
       "    }\n",
       "\n",
       "    .dataframe thead th {\n",
       "        text-align: right;\n",
       "    }\n",
       "</style>\n",
       "<table border=\"1\" class=\"dataframe\">\n",
       "  <thead>\n",
       "    <tr style=\"text-align: right;\">\n",
       "      <th></th>\n",
       "      <th>id</th>\n",
       "      <th>ts</th>\n",
       "      <th>price</th>\n",
       "      <th>status</th>\n",
       "    </tr>\n",
       "  </thead>\n",
       "  <tbody>\n",
       "    <tr>\n",
       "      <th>1</th>\n",
       "      <td>101</td>\n",
       "      <td>2025-09-02 10:00</td>\n",
       "      <td>10</td>\n",
       "      <td>paid</td>\n",
       "    </tr>\n",
       "    <tr>\n",
       "      <th>2</th>\n",
       "      <td>101</td>\n",
       "      <td>2025-09-03 09:00</td>\n",
       "      <td>9.5</td>\n",
       "      <td>paid</td>\n",
       "    </tr>\n",
       "    <tr>\n",
       "      <th>3</th>\n",
       "      <td>102</td>\n",
       "      <td>2025-09-06 16:30</td>\n",
       "      <td>7.25</td>\n",
       "      <td>paid</td>\n",
       "    </tr>\n",
       "    <tr>\n",
       "      <th>5</th>\n",
       "      <td>103</td>\n",
       "      <td>2025-09-08 08:00</td>\n",
       "      <td>free</td>\n",
       "      <td>refunded</td>\n",
       "    </tr>\n",
       "    <tr>\n",
       "      <th>6</th>\n",
       "      <td>106</td>\n",
       "      <td>2025-09-12 12:00</td>\n",
       "      <td>12.5</td>\n",
       "      <td>paid</td>\n",
       "    </tr>\n",
       "  </tbody>\n",
       "</table>\n",
       "</div>"
      ],
      "text/plain": [
       "    id                ts price    status\n",
       "1  101  2025-09-02 10:00    10      paid\n",
       "2  101  2025-09-03 09:00   9.5      paid\n",
       "3  102  2025-09-06 16:30  7.25      paid\n",
       "5  103  2025-09-08 08:00  free  refunded\n",
       "6  106  2025-09-12 12:00  12.5      paid"
      ]
     },
     "execution_count": 7,
     "metadata": {},
     "output_type": "execute_result"
    }
   ],
   "source": [
    "# 3.2 Keep last occurrence by key\n",
    "tx_keep_last = transactions.drop_duplicates(subset=['id','ts'], keep='last')\n",
    "tx_keep_last"
   ]
  },
  {
   "cell_type": "code",
   "execution_count": 8,
   "id": "c0605ab6",
   "metadata": {},
   "outputs": [
    {
     "data": {
      "text/html": [
       "<div>\n",
       "<style scoped>\n",
       "    .dataframe tbody tr th:only-of-type {\n",
       "        vertical-align: middle;\n",
       "    }\n",
       "\n",
       "    .dataframe tbody tr th {\n",
       "        vertical-align: top;\n",
       "    }\n",
       "\n",
       "    .dataframe thead th {\n",
       "        text-align: right;\n",
       "    }\n",
       "</style>\n",
       "<table border=\"1\" class=\"dataframe\">\n",
       "  <thead>\n",
       "    <tr style=\"text-align: right;\">\n",
       "      <th></th>\n",
       "      <th>id</th>\n",
       "      <th>ts</th>\n",
       "      <th>price</th>\n",
       "      <th>status</th>\n",
       "    </tr>\n",
       "  </thead>\n",
       "  <tbody>\n",
       "    <tr>\n",
       "      <th>0</th>\n",
       "      <td>101</td>\n",
       "      <td>2025-09-02 10:00</td>\n",
       "      <td>$10.00</td>\n",
       "      <td>paid</td>\n",
       "    </tr>\n",
       "    <tr>\n",
       "      <th>1</th>\n",
       "      <td>101</td>\n",
       "      <td>2025-09-02 10:00</td>\n",
       "      <td>10</td>\n",
       "      <td>paid</td>\n",
       "    </tr>\n",
       "    <tr>\n",
       "      <th>2</th>\n",
       "      <td>101</td>\n",
       "      <td>2025-09-03 09:00</td>\n",
       "      <td>9.5</td>\n",
       "      <td>paid</td>\n",
       "    </tr>\n",
       "    <tr>\n",
       "      <th>3</th>\n",
       "      <td>102</td>\n",
       "      <td>2025-09-06 16:30</td>\n",
       "      <td>7.25</td>\n",
       "      <td>paid</td>\n",
       "    </tr>\n",
       "    <tr>\n",
       "      <th>4</th>\n",
       "      <td>103</td>\n",
       "      <td>2025-09-08 08:00</td>\n",
       "      <td>0</td>\n",
       "      <td>refunded</td>\n",
       "    </tr>\n",
       "    <tr>\n",
       "      <th>5</th>\n",
       "      <td>103</td>\n",
       "      <td>2025-09-08 08:00</td>\n",
       "      <td>free</td>\n",
       "      <td>refunded</td>\n",
       "    </tr>\n",
       "    <tr>\n",
       "      <th>6</th>\n",
       "      <td>106</td>\n",
       "      <td>2025-09-12 12:00</td>\n",
       "      <td>12.5</td>\n",
       "      <td>paid</td>\n",
       "    </tr>\n",
       "  </tbody>\n",
       "</table>\n",
       "</div>"
      ],
      "text/plain": [
       "    id                ts   price    status\n",
       "0  101  2025-09-02 10:00  $10.00      paid\n",
       "1  101  2025-09-02 10:00      10      paid\n",
       "2  101  2025-09-03 09:00     9.5      paid\n",
       "3  102  2025-09-06 16:30    7.25      paid\n",
       "4  103  2025-09-08 08:00       0  refunded\n",
       "5  103  2025-09-08 08:00    free  refunded\n",
       "6  106  2025-09-12 12:00    12.5      paid"
      ]
     },
     "execution_count": 8,
     "metadata": {},
     "output_type": "execute_result"
    }
   ],
   "source": [
    "transactions"
   ]
  },
  {
   "cell_type": "code",
   "execution_count": 9,
   "id": "950beeac",
   "metadata": {},
   "outputs": [
    {
     "data": {
      "text/html": [
       "<div>\n",
       "<style scoped>\n",
       "    .dataframe tbody tr th:only-of-type {\n",
       "        vertical-align: middle;\n",
       "    }\n",
       "\n",
       "    .dataframe tbody tr th {\n",
       "        vertical-align: top;\n",
       "    }\n",
       "\n",
       "    .dataframe thead th {\n",
       "        text-align: right;\n",
       "    }\n",
       "</style>\n",
       "<table border=\"1\" class=\"dataframe\">\n",
       "  <thead>\n",
       "    <tr style=\"text-align: right;\">\n",
       "      <th></th>\n",
       "      <th>id</th>\n",
       "      <th>ts</th>\n",
       "      <th>price_total</th>\n",
       "      <th>status_last</th>\n",
       "    </tr>\n",
       "  </thead>\n",
       "  <tbody>\n",
       "    <tr>\n",
       "      <th>0</th>\n",
       "      <td>101</td>\n",
       "      <td>2025-09-02 10:00</td>\n",
       "      <td>20.00</td>\n",
       "      <td>paid</td>\n",
       "    </tr>\n",
       "    <tr>\n",
       "      <th>1</th>\n",
       "      <td>101</td>\n",
       "      <td>2025-09-03 09:00</td>\n",
       "      <td>9.50</td>\n",
       "      <td>paid</td>\n",
       "    </tr>\n",
       "    <tr>\n",
       "      <th>2</th>\n",
       "      <td>102</td>\n",
       "      <td>2025-09-06 16:30</td>\n",
       "      <td>7.25</td>\n",
       "      <td>paid</td>\n",
       "    </tr>\n",
       "    <tr>\n",
       "      <th>3</th>\n",
       "      <td>103</td>\n",
       "      <td>2025-09-08 08:00</td>\n",
       "      <td>0.00</td>\n",
       "      <td>refunded</td>\n",
       "    </tr>\n",
       "    <tr>\n",
       "      <th>4</th>\n",
       "      <td>106</td>\n",
       "      <td>2025-09-12 12:00</td>\n",
       "      <td>12.50</td>\n",
       "      <td>paid</td>\n",
       "    </tr>\n",
       "  </tbody>\n",
       "</table>\n",
       "</div>"
      ],
      "text/plain": [
       "    id                ts  price_total status_last\n",
       "0  101  2025-09-02 10:00        20.00        paid\n",
       "1  101  2025-09-03 09:00         9.50        paid\n",
       "2  102  2025-09-06 16:30         7.25        paid\n",
       "3  103  2025-09-08 08:00         0.00    refunded\n",
       "4  106  2025-09-12 12:00        12.50        paid"
      ]
     },
     "execution_count": 9,
     "metadata": {},
     "output_type": "execute_result"
    }
   ],
   "source": [
    "# 3.3 Aggregate duplicates by key (sum price after converting to numeric; keep max timestamp string for demo)\n",
    "tx_tmp = transactions.copy()\n",
    "tx_tmp['price_num'] = pd.to_numeric(tx_tmp['price'].str.replace('$','', regex=False), errors='coerce')\n",
    "tx_agg = (\n",
    "    tx_tmp.groupby(['id','ts'], as_index=False)\n",
    "          .agg(price_total=('price_num','sum'), status_last=('status','last'))\n",
    ")\n",
    "tx_agg"
   ]
  },
  {
   "cell_type": "markdown",
   "id": "8373f9c7",
   "metadata": {},
   "source": [
    "**Guideline:** Document which rule is applied and why. Aggregation is appropriate when each row is a component of a single logical event."
   ]
  },
  {
   "cell_type": "markdown",
   "id": "36b7ed19",
   "metadata": {},
   "source": [
    "## 4. Practical Deduplication Recipe with Assertions"
   ]
  },
  {
   "cell_type": "code",
   "execution_count": 10,
   "id": "246b2a86",
   "metadata": {},
   "outputs": [
    {
     "data": {
      "text/html": [
       "<div>\n",
       "<style scoped>\n",
       "    .dataframe tbody tr th:only-of-type {\n",
       "        vertical-align: middle;\n",
       "    }\n",
       "\n",
       "    .dataframe tbody tr th {\n",
       "        vertical-align: top;\n",
       "    }\n",
       "\n",
       "    .dataframe thead th {\n",
       "        text-align: right;\n",
       "    }\n",
       "</style>\n",
       "<table border=\"1\" class=\"dataframe\">\n",
       "  <thead>\n",
       "    <tr style=\"text-align: right;\">\n",
       "      <th></th>\n",
       "      <th>id</th>\n",
       "      <th>ts</th>\n",
       "      <th>price</th>\n",
       "      <th>status</th>\n",
       "    </tr>\n",
       "  </thead>\n",
       "  <tbody>\n",
       "    <tr>\n",
       "      <th>1</th>\n",
       "      <td>101</td>\n",
       "      <td>2025-09-02 10:00</td>\n",
       "      <td>10</td>\n",
       "      <td>paid</td>\n",
       "    </tr>\n",
       "    <tr>\n",
       "      <th>2</th>\n",
       "      <td>101</td>\n",
       "      <td>2025-09-03 09:00</td>\n",
       "      <td>9.5</td>\n",
       "      <td>paid</td>\n",
       "    </tr>\n",
       "    <tr>\n",
       "      <th>3</th>\n",
       "      <td>102</td>\n",
       "      <td>2025-09-06 16:30</td>\n",
       "      <td>7.25</td>\n",
       "      <td>paid</td>\n",
       "    </tr>\n",
       "    <tr>\n",
       "      <th>5</th>\n",
       "      <td>103</td>\n",
       "      <td>2025-09-08 08:00</td>\n",
       "      <td>free</td>\n",
       "      <td>refunded</td>\n",
       "    </tr>\n",
       "    <tr>\n",
       "      <th>6</th>\n",
       "      <td>106</td>\n",
       "      <td>2025-09-12 12:00</td>\n",
       "      <td>12.5</td>\n",
       "      <td>paid</td>\n",
       "    </tr>\n",
       "  </tbody>\n",
       "</table>\n",
       "</div>"
      ],
      "text/plain": [
       "    id                ts price    status\n",
       "1  101  2025-09-02 10:00    10      paid\n",
       "2  101  2025-09-03 09:00   9.5      paid\n",
       "3  102  2025-09-06 16:30  7.25      paid\n",
       "5  103  2025-09-08 08:00  free  refunded\n",
       "6  106  2025-09-12 12:00  12.5      paid"
      ]
     },
     "execution_count": 10,
     "metadata": {},
     "output_type": "execute_result"
    }
   ],
   "source": [
    "# Sort by time and keep latest per (id, ts)\n",
    "tx_sorted = transactions.sort_values('ts')\n",
    "tx_unique = tx_sorted.drop_duplicates(subset=['id','ts'], keep='last')\n",
    "\n",
    "# Verify no duplicates remain on the key\n",
    "assert not tx_unique.duplicated(subset=['id','ts']).any()\n",
    "tx_unique"
   ]
  },
  {
   "cell_type": "markdown",
   "id": "16d856ee",
   "metadata": {},
   "source": [
    "## 5. Type Conversion: Inspecting and Enforcing Types"
   ]
  },
  {
   "cell_type": "code",
   "execution_count": 11,
   "id": "12880c7a",
   "metadata": {},
   "outputs": [
    {
     "name": "stdout",
     "output_type": "stream",
     "text": [
      "<class 'pandas.core.frame.DataFrame'>\n",
      "RangeIndex: 7 entries, 0 to 6\n",
      "Data columns (total 4 columns):\n",
      " #   Column      Non-Null Count  Dtype \n",
      "---  ------      --------------  ----- \n",
      " 0   id          7 non-null      int64 \n",
      " 1   email       7 non-null      object\n",
      " 2   state       7 non-null      object\n",
      " 3   created_at  7 non-null      object\n",
      "dtypes: int64(1), object(3)\n",
      "memory usage: 356.0+ bytes\n"
     ]
    }
   ],
   "source": [
    "# Inspect\n",
    "customers.info()"
   ]
  },
  {
   "cell_type": "code",
   "execution_count": 12,
   "id": "d09d97dd",
   "metadata": {},
   "outputs": [
    {
     "name": "stdout",
     "output_type": "stream",
     "text": [
      "<class 'pandas.core.frame.DataFrame'>\n",
      "RangeIndex: 7 entries, 0 to 6\n",
      "Data columns (total 4 columns):\n",
      " #   Column  Non-Null Count  Dtype \n",
      "---  ------  --------------  ----- \n",
      " 0   id      7 non-null      int64 \n",
      " 1   ts      7 non-null      object\n",
      " 2   price   7 non-null      object\n",
      " 3   status  7 non-null      object\n",
      "dtypes: int64(1), object(3)\n",
      "memory usage: 356.0+ bytes\n"
     ]
    }
   ],
   "source": [
    "transactions.info()"
   ]
  },
  {
   "cell_type": "code",
   "execution_count": 13,
   "id": "417d6cb9",
   "metadata": {},
   "outputs": [
    {
     "data": {
      "text/plain": [
       "id                     int64\n",
       "email                 object\n",
       "state                 object\n",
       "created_at    datetime64[ns]\n",
       "dtype: object"
      ]
     },
     "execution_count": 13,
     "metadata": {},
     "output_type": "execute_result"
    }
   ],
   "source": [
    "# Convert to datetime\n",
    "customers['created_at'] = pd.to_datetime(customers['created_at'], errors='coerce')\n",
    "transactions['ts'] = pd.to_datetime(transactions['ts'], errors='coerce')\n",
    "\n",
    "customers.dtypes"
   ]
  },
  {
   "cell_type": "code",
   "execution_count": 14,
   "id": "b1d5c317",
   "metadata": {},
   "outputs": [
    {
     "data": {
      "text/plain": [
       "id                    int64\n",
       "ts           datetime64[ns]\n",
       "price                object\n",
       "status               object\n",
       "price_num           float64\n",
       "dtype: object"
      ]
     },
     "execution_count": 14,
     "metadata": {},
     "output_type": "execute_result"
    }
   ],
   "source": [
    "# Convert price to numeric\n",
    "transactions['price_num'] = pd.to_numeric(transactions['price'].str.replace('$','', regex=False), errors='coerce')\n",
    "\n",
    "transactions.dtypes"
   ]
  },
  {
   "cell_type": "code",
   "execution_count": 15,
   "id": "f74257b9",
   "metadata": {},
   "outputs": [
    {
     "name": "stdout",
     "output_type": "stream",
     "text": [
      "errors='raise' example -> ValueError('Unable to parse string \"two\" at position 1')\n",
      "0      1\n",
      "1    two\n",
      "2      3\n",
      "dtype: object\n"
     ]
    },
    {
     "name": "stderr",
     "output_type": "stream",
     "text": [
      "/tmp/ipykernel_6662/932389481.py:8: FutureWarning: errors='ignore' is deprecated and will raise in a future version. Use to_numeric without passing `errors` and catch exceptions explicitly instead\n",
      "  print(pd.to_numeric(pd.Series(['1','two','3']), errors='ignore'))\n"
     ]
    }
   ],
   "source": [
    "# Alternatives to 'coerce' for error handling\n",
    "try:\n",
    "    pd.to_numeric(pd.Series(['1','two','3']), errors='raise')\n",
    "except Exception as e:\n",
    "    print(\"errors='raise' example ->\", repr(e))\n",
    "\n",
    "# errors='ignore' leaves data unchanged if invalid\n",
    "print(pd.to_numeric(pd.Series(['1','two','3']), errors='ignore'))"
   ]
  },
  {
   "cell_type": "markdown",
   "id": "823bad49",
   "metadata": {},
   "source": [
    "## 6. `convert_dtypes()` and Explicit `astype()`"
   ]
  },
  {
   "cell_type": "code",
   "execution_count": 16,
   "id": "4e341995",
   "metadata": {},
   "outputs": [
    {
     "data": {
      "text/plain": [
       "id                     Int64\n",
       "email         string[python]\n",
       "state         string[python]\n",
       "created_at    datetime64[ns]\n",
       "dtype: object"
      ]
     },
     "execution_count": 16,
     "metadata": {},
     "output_type": "execute_result"
    }
   ],
   "source": [
    "# convert_dtypes picks best nullable dtypes\n",
    "auto_customers = customers.convert_dtypes()\n",
    "\n",
    "auto_customers.dtypes"
   ]
  },
  {
   "cell_type": "code",
   "execution_count": 17,
   "id": "968529f0",
   "metadata": {},
   "outputs": [
    {
     "data": {
      "text/plain": [
       "id                    Int64\n",
       "ts           datetime64[ns]\n",
       "price        string[python]\n",
       "status       string[python]\n",
       "price_num           Float64\n",
       "dtype: object"
      ]
     },
     "execution_count": 17,
     "metadata": {},
     "output_type": "execute_result"
    }
   ],
   "source": [
    "auto_transactions = transactions.convert_dtypes()\n",
    "auto_transactions.dtypes"
   ]
  },
  {
   "cell_type": "code",
   "execution_count": 18,
   "id": "28cb60d4",
   "metadata": {},
   "outputs": [
    {
     "data": {
      "text/plain": [
       "id                    int64\n",
       "ts           datetime64[ns]\n",
       "price                object\n",
       "status               object\n",
       "price_num           float64\n",
       "dtype: object"
      ]
     },
     "execution_count": 18,
     "metadata": {},
     "output_type": "execute_result"
    }
   ],
   "source": [
    "# Explicit casting of multiple columns\n",
    "casted = transactions.astype({'price_num': 'float64'})\n",
    "casted.dtypes"
   ]
  },
  {
   "cell_type": "markdown",
   "id": "06e51f25",
   "metadata": {},
   "source": [
    "## 7. Validating Type Integrity and Logical Constraints"
   ]
  },
  {
   "cell_type": "code",
   "execution_count": 19,
   "id": "849b9347",
   "metadata": {},
   "outputs": [
    {
     "name": "stdout",
     "output_type": "stream",
     "text": [
      "Type and logical checks passed.\n"
     ]
    }
   ],
   "source": [
    "import pandas.api.types as ptypes\n",
    "assert ptypes.is_datetime64_any_dtype(customers['created_at'])\n",
    "assert ptypes.is_datetime64_any_dtype(transactions['ts'])\n",
    "assert ptypes.is_numeric_dtype(transactions['price_num'])\n",
    "\n",
    "# Logical constraints\n",
    "assert (transactions['price_num'].fillna(0) >= 0).all()  # Nonnegative\n",
    "print(\"Type and logical checks passed.\")"
   ]
  },
  {
   "cell_type": "markdown",
   "id": "8778d07b",
   "metadata": {},
   "source": [
    "## 8. Categorical Data: Normalization, Enforcement, and Drift"
   ]
  },
  {
   "cell_type": "code",
   "execution_count": 20,
   "id": "1e53bcff",
   "metadata": {},
   "outputs": [
    {
     "data": {
      "text/html": [
       "<div>\n",
       "<style scoped>\n",
       "    .dataframe tbody tr th:only-of-type {\n",
       "        vertical-align: middle;\n",
       "    }\n",
       "\n",
       "    .dataframe tbody tr th {\n",
       "        vertical-align: top;\n",
       "    }\n",
       "\n",
       "    .dataframe thead th {\n",
       "        text-align: right;\n",
       "    }\n",
       "</style>\n",
       "<table border=\"1\" class=\"dataframe\">\n",
       "  <thead>\n",
       "    <tr style=\"text-align: right;\">\n",
       "      <th></th>\n",
       "      <th>id</th>\n",
       "      <th>state</th>\n",
       "      <th>state_norm</th>\n",
       "      <th>state_cat</th>\n",
       "    </tr>\n",
       "  </thead>\n",
       "  <tbody>\n",
       "    <tr>\n",
       "      <th>0</th>\n",
       "      <td>101</td>\n",
       "      <td>tn</td>\n",
       "      <td>TN</td>\n",
       "      <td>TN</td>\n",
       "    </tr>\n",
       "    <tr>\n",
       "      <th>1</th>\n",
       "      <td>101</td>\n",
       "      <td>TN</td>\n",
       "      <td>TN</td>\n",
       "      <td>TN</td>\n",
       "    </tr>\n",
       "    <tr>\n",
       "      <th>3</th>\n",
       "      <td>103</td>\n",
       "      <td>ga</td>\n",
       "      <td>GA</td>\n",
       "      <td>GA</td>\n",
       "    </tr>\n",
       "    <tr>\n",
       "      <th>6</th>\n",
       "      <td>105</td>\n",
       "      <td>Tn</td>\n",
       "      <td>TN</td>\n",
       "      <td>TN</td>\n",
       "    </tr>\n",
       "  </tbody>\n",
       "</table>\n",
       "</div>"
      ],
      "text/plain": [
       "    id state state_norm state_cat\n",
       "0  101    tn         TN        TN\n",
       "1  101   TN          TN        TN\n",
       "3  103    ga         GA        GA\n",
       "6  105    Tn         TN        TN"
      ]
     },
     "execution_count": 20,
     "metadata": {},
     "output_type": "execute_result"
    }
   ],
   "source": [
    "# Normalize state values\n",
    "customers['state_norm'] = customers['state'].str.upper().str.strip()\n",
    "\n",
    "# Enforce allowed categories\n",
    "state_type = CategoricalDtype(categories=['TN','GA','AL'], ordered=False)\n",
    "customers['state_cat'] = customers['state_norm'].astype(state_type)\n",
    "\n",
    "# Detect drift\n",
    "invalid_mask = ~customers['state'].isin(state_type.categories)\n",
    "customers[['id','state','state_norm','state_cat']][invalid_mask]"
   ]
  },
  {
   "cell_type": "code",
   "execution_count": 21,
   "id": "ab6bee32",
   "metadata": {},
   "outputs": [
    {
     "data": {
      "text/html": [
       "<div>\n",
       "<style scoped>\n",
       "    .dataframe tbody tr th:only-of-type {\n",
       "        vertical-align: middle;\n",
       "    }\n",
       "\n",
       "    .dataframe tbody tr th {\n",
       "        vertical-align: top;\n",
       "    }\n",
       "\n",
       "    .dataframe thead th {\n",
       "        text-align: right;\n",
       "    }\n",
       "</style>\n",
       "<table border=\"1\" class=\"dataframe\">\n",
       "  <thead>\n",
       "    <tr style=\"text-align: right;\">\n",
       "      <th></th>\n",
       "      <th>id</th>\n",
       "      <th>state</th>\n",
       "      <th>state_norm</th>\n",
       "      <th>state_cat</th>\n",
       "    </tr>\n",
       "  </thead>\n",
       "  <tbody>\n",
       "  </tbody>\n",
       "</table>\n",
       "</div>"
      ],
      "text/plain": [
       "Empty DataFrame\n",
       "Columns: [id, state, state_norm, state_cat]\n",
       "Index: []"
      ]
     },
     "execution_count": 21,
     "metadata": {},
     "output_type": "execute_result"
    }
   ],
   "source": [
    "# Detect drift\n",
    "invalid_mask = ~customers['state_norm'].isin(state_type.categories)\n",
    "customers[['id','state','state_norm','state_cat']][invalid_mask]"
   ]
  },
  {
   "cell_type": "code",
   "execution_count": 22,
   "id": "e68edafb",
   "metadata": {},
   "outputs": [
    {
     "data": {
      "text/html": [
       "<div>\n",
       "<style scoped>\n",
       "    .dataframe tbody tr th:only-of-type {\n",
       "        vertical-align: middle;\n",
       "    }\n",
       "\n",
       "    .dataframe tbody tr th {\n",
       "        vertical-align: top;\n",
       "    }\n",
       "\n",
       "    .dataframe thead th {\n",
       "        text-align: right;\n",
       "    }\n",
       "</style>\n",
       "<table border=\"1\" class=\"dataframe\">\n",
       "  <thead>\n",
       "    <tr style=\"text-align: right;\">\n",
       "      <th></th>\n",
       "      <th>gender</th>\n",
       "      <th>gender_std</th>\n",
       "    </tr>\n",
       "  </thead>\n",
       "  <tbody>\n",
       "    <tr>\n",
       "      <th>0</th>\n",
       "      <td>Male</td>\n",
       "      <td>Male</td>\n",
       "    </tr>\n",
       "    <tr>\n",
       "      <th>1</th>\n",
       "      <td>male</td>\n",
       "      <td>Male</td>\n",
       "    </tr>\n",
       "    <tr>\n",
       "      <th>2</th>\n",
       "      <td>M</td>\n",
       "      <td>Male</td>\n",
       "    </tr>\n",
       "    <tr>\n",
       "      <th>3</th>\n",
       "      <td>Female</td>\n",
       "      <td>Female</td>\n",
       "    </tr>\n",
       "    <tr>\n",
       "      <th>4</th>\n",
       "      <td>F</td>\n",
       "      <td>Female</td>\n",
       "    </tr>\n",
       "    <tr>\n",
       "      <th>5</th>\n",
       "      <td>unknown</td>\n",
       "      <td>unknown</td>\n",
       "    </tr>\n",
       "    <tr>\n",
       "      <th>6</th>\n",
       "      <td>NaN</td>\n",
       "      <td>NaN</td>\n",
       "    </tr>\n",
       "  </tbody>\n",
       "</table>\n",
       "</div>"
      ],
      "text/plain": [
       "    gender gender_std\n",
       "0     Male       Male\n",
       "1     male       Male\n",
       "2        M       Male\n",
       "3   Female     Female\n",
       "4        F     Female\n",
       "5  unknown    unknown\n",
       "6      NaN        NaN"
      ]
     },
     "execution_count": 22,
     "metadata": {},
     "output_type": "execute_result"
    }
   ],
   "source": [
    "# Map gender example and enforce categories\n",
    "demo = pd.DataFrame({'gender': ['Male','male','M','Female','F','unknown', np.nan]})\n",
    "demo['gender_std'] = demo['gender'].replace({'male':'Male','M':'Male','female':'Female','F':'Female'})\n",
    "\n",
    "demo"
   ]
  },
  {
   "cell_type": "code",
   "execution_count": 23,
   "id": "d7c2c97d",
   "metadata": {},
   "outputs": [
    {
     "data": {
      "text/html": [
       "<div>\n",
       "<style scoped>\n",
       "    .dataframe tbody tr th:only-of-type {\n",
       "        vertical-align: middle;\n",
       "    }\n",
       "\n",
       "    .dataframe tbody tr th {\n",
       "        vertical-align: top;\n",
       "    }\n",
       "\n",
       "    .dataframe thead th {\n",
       "        text-align: right;\n",
       "    }\n",
       "</style>\n",
       "<table border=\"1\" class=\"dataframe\">\n",
       "  <thead>\n",
       "    <tr style=\"text-align: right;\">\n",
       "      <th></th>\n",
       "      <th>gender</th>\n",
       "      <th>gender_std</th>\n",
       "    </tr>\n",
       "  </thead>\n",
       "  <tbody>\n",
       "    <tr>\n",
       "      <th>5</th>\n",
       "      <td>unknown</td>\n",
       "      <td>unknown</td>\n",
       "    </tr>\n",
       "    <tr>\n",
       "      <th>6</th>\n",
       "      <td>NaN</td>\n",
       "      <td>NaN</td>\n",
       "    </tr>\n",
       "  </tbody>\n",
       "</table>\n",
       "</div>"
      ],
      "text/plain": [
       "    gender gender_std\n",
       "5  unknown    unknown\n",
       "6      NaN        NaN"
      ]
     },
     "execution_count": 23,
     "metadata": {},
     "output_type": "execute_result"
    }
   ],
   "source": [
    "allowed = ['Male','Female']\n",
    "invalid = ~demo['gender_std'].isin(allowed)\n",
    "\n",
    "demo[invalid]"
   ]
  },
  {
   "cell_type": "markdown",
   "id": "f86649e3",
   "metadata": {},
   "source": [
    "## 9. Clean Joins After Dedup and Type Fixes"
   ]
  },
  {
   "cell_type": "code",
   "execution_count": 24,
   "id": "ae8a0d09",
   "metadata": {},
   "outputs": [
    {
     "data": {
      "text/html": [
       "<div>\n",
       "<style scoped>\n",
       "    .dataframe tbody tr th:only-of-type {\n",
       "        vertical-align: middle;\n",
       "    }\n",
       "\n",
       "    .dataframe tbody tr th {\n",
       "        vertical-align: top;\n",
       "    }\n",
       "\n",
       "    .dataframe thead th {\n",
       "        text-align: right;\n",
       "    }\n",
       "</style>\n",
       "<table border=\"1\" class=\"dataframe\">\n",
       "  <thead>\n",
       "    <tr style=\"text-align: right;\">\n",
       "      <th></th>\n",
       "      <th>id</th>\n",
       "      <th>ts</th>\n",
       "      <th>price_num</th>\n",
       "      <th>status</th>\n",
       "      <th>email_norm</th>\n",
       "      <th>state_cat</th>\n",
       "    </tr>\n",
       "  </thead>\n",
       "  <tbody>\n",
       "    <tr>\n",
       "      <th>0</th>\n",
       "      <td>101</td>\n",
       "      <td>2025-09-02 10:00:00</td>\n",
       "      <td>10.00</td>\n",
       "      <td>paid</td>\n",
       "      <td>a@x.com</td>\n",
       "      <td>TN</td>\n",
       "    </tr>\n",
       "    <tr>\n",
       "      <th>1</th>\n",
       "      <td>101</td>\n",
       "      <td>2025-09-03 09:00:00</td>\n",
       "      <td>9.50</td>\n",
       "      <td>paid</td>\n",
       "      <td>a@x.com</td>\n",
       "      <td>TN</td>\n",
       "    </tr>\n",
       "    <tr>\n",
       "      <th>2</th>\n",
       "      <td>102</td>\n",
       "      <td>2025-09-06 16:30:00</td>\n",
       "      <td>7.25</td>\n",
       "      <td>paid</td>\n",
       "      <td>b@x.com</td>\n",
       "      <td>GA</td>\n",
       "    </tr>\n",
       "    <tr>\n",
       "      <th>3</th>\n",
       "      <td>103</td>\n",
       "      <td>2025-09-08 08:00:00</td>\n",
       "      <td>NaN</td>\n",
       "      <td>refunded</td>\n",
       "      <td>c@x.com</td>\n",
       "      <td>GA</td>\n",
       "    </tr>\n",
       "    <tr>\n",
       "      <th>4</th>\n",
       "      <td>106</td>\n",
       "      <td>2025-09-12 12:00:00</td>\n",
       "      <td>12.50</td>\n",
       "      <td>paid</td>\n",
       "      <td>NaN</td>\n",
       "      <td>NaN</td>\n",
       "    </tr>\n",
       "  </tbody>\n",
       "</table>\n",
       "</div>"
      ],
      "text/plain": [
       "    id                  ts  price_num    status email_norm state_cat\n",
       "0  101 2025-09-02 10:00:00      10.00      paid    a@x.com        TN\n",
       "1  101 2025-09-03 09:00:00       9.50      paid    a@x.com        TN\n",
       "2  102 2025-09-06 16:30:00       7.25      paid    b@x.com        GA\n",
       "3  103 2025-09-08 08:00:00        NaN  refunded    c@x.com        GA\n",
       "4  106 2025-09-12 12:00:00      12.50      paid        NaN       NaN"
      ]
     },
     "execution_count": 24,
     "metadata": {},
     "output_type": "execute_result"
    }
   ],
   "source": [
    "# Prepare customers: deduplicate by (id, email after trim+lower)\n",
    "cust_norm = customers.assign(\n",
    "    email_norm = customers['email'].str.strip().str.lower()\n",
    ").sort_values('created_at')\n",
    "\n",
    "cust_unique = cust_norm.drop_duplicates(subset=['id','email_norm'], keep='last')\n",
    "\n",
    "# Verify uniqueness\n",
    "assert not cust_unique.duplicated(subset=['id']).any()\n",
    "\n",
    "# Safe join with transactions\n",
    "tx_clean = transactions[['id','ts','price_num','status']].drop_duplicates(subset=['id','ts'], keep='last')\n",
    "fact = tx_clean.merge(cust_unique[['id','email_norm','state_cat']], on='id', how='left')\n",
    "fact.head()"
   ]
  },
  {
   "cell_type": "markdown",
   "id": "ab42f56a",
   "metadata": {},
   "source": [
    "## 10. Documenting Cleaning Decisions\n",
    "| Step | Action                 | Columns                    | Notes                                  |\n",
    "|-----:|------------------------|----------------------------|----------------------------------------|\n",
    "| 1    | Drop duplicates        | id, ts                     | Keep last per (id, ts)                 |\n",
    "| 2    | Convert numeric/date   | price → price_num, ts      | `errors='coerce'` for robustness       |\n",
    "| 3    | Normalize categories   | state → state_norm/state_cat | Uppercase + strict category set      |\n",
    "| 4    | Validate constraints   | price_num, ts              | Nonnegative prices, valid datetimes    |\n",
    "| 5    | Reproducible joins     | id                         | Verified unique keys                   |"
   ]
  },
  {
   "cell_type": "markdown",
   "id": "5122fb3e",
   "metadata": {},
   "source": [
    "## 11. Exercises\n",
    "Complete the tasks below. Answers are provided in the subsequent section."
   ]
  },
  {
   "cell_type": "markdown",
   "id": "25ae89d8",
   "metadata": {},
   "source": [
    "**Exercise 1.** Identify all partial duplicates in `transactions` by keys `(id, ts)` and return a deduplicated frame keeping the **highest** `price_num` per key."
   ]
  },
  {
   "cell_type": "code",
   "execution_count": 25,
   "id": "f870e0c0",
   "metadata": {},
   "outputs": [],
   "source": [
    "# TODO: Your code here\n",
    "# 1) Mark duplicates by subset\n",
    "# 2) Aggregate by max(price_num)\n",
    "# 3) Merge back or compute directly\n",
    "# expected columns: id, ts, price_num_max\n",
    "pass"
   ]
  },
  {
   "cell_type": "code",
   "execution_count": 26,
   "id": "1357b8aa",
   "metadata": {},
   "outputs": [
    {
     "data": {
      "text/html": [
       "<div>\n",
       "<style scoped>\n",
       "    .dataframe tbody tr th:only-of-type {\n",
       "        vertical-align: middle;\n",
       "    }\n",
       "\n",
       "    .dataframe tbody tr th {\n",
       "        vertical-align: top;\n",
       "    }\n",
       "\n",
       "    .dataframe thead th {\n",
       "        text-align: right;\n",
       "    }\n",
       "</style>\n",
       "<table border=\"1\" class=\"dataframe\">\n",
       "  <thead>\n",
       "    <tr style=\"text-align: right;\">\n",
       "      <th></th>\n",
       "      <th>id</th>\n",
       "      <th>ts</th>\n",
       "      <th>price_num_max</th>\n",
       "    </tr>\n",
       "  </thead>\n",
       "  <tbody>\n",
       "    <tr>\n",
       "      <th>0</th>\n",
       "      <td>101</td>\n",
       "      <td>2025-09-02 10:00:00</td>\n",
       "      <td>10.00</td>\n",
       "    </tr>\n",
       "    <tr>\n",
       "      <th>1</th>\n",
       "      <td>101</td>\n",
       "      <td>2025-09-03 09:00:00</td>\n",
       "      <td>9.50</td>\n",
       "    </tr>\n",
       "    <tr>\n",
       "      <th>2</th>\n",
       "      <td>102</td>\n",
       "      <td>2025-09-06 16:30:00</td>\n",
       "      <td>7.25</td>\n",
       "    </tr>\n",
       "    <tr>\n",
       "      <th>3</th>\n",
       "      <td>103</td>\n",
       "      <td>2025-09-08 08:00:00</td>\n",
       "      <td>0.00</td>\n",
       "    </tr>\n",
       "    <tr>\n",
       "      <th>4</th>\n",
       "      <td>106</td>\n",
       "      <td>2025-09-12 12:00:00</td>\n",
       "      <td>12.50</td>\n",
       "    </tr>\n",
       "  </tbody>\n",
       "</table>\n",
       "</div>"
      ],
      "text/plain": [
       "    id                  ts  price_num_max\n",
       "0  101 2025-09-02 10:00:00          10.00\n",
       "1  101 2025-09-03 09:00:00           9.50\n",
       "2  102 2025-09-06 16:30:00           7.25\n",
       "3  103 2025-09-08 08:00:00           0.00\n",
       "4  106 2025-09-12 12:00:00          12.50"
      ]
     },
     "execution_count": 26,
     "metadata": {},
     "output_type": "execute_result"
    }
   ],
   "source": [
    "ans1 = (\n",
    "    transactions\n",
    "      .assign(price_num=pd.to_numeric(transactions['price'].str.replace('$','', regex=False), errors='coerce'))\n",
    "      .groupby(['id','ts'], as_index=False)\n",
    "      .agg(price_num_max=('price_num','max'))\n",
    ")\n",
    "ans1.sort_values(['id','ts']).head(10)"
   ]
  },
  {
   "cell_type": "markdown",
   "id": "d065e636",
   "metadata": {},
   "source": [
    "**Exercise 2.** Convert `customers['created_at']` to datetime with `errors='raise'`. Catch and display the error, then convert correctly with a strict `format` specification."
   ]
  },
  {
   "cell_type": "code",
   "execution_count": 27,
   "id": "e147158d",
   "metadata": {},
   "outputs": [],
   "source": [
    "# TODO: Your code here\n",
    "# 1) Try strict conversion and handle exception\n",
    "# 2) Then convert again using format='%Y-%m-%d' for the rows that match, coerce others\n",
    "pass"
   ]
  },
  {
   "cell_type": "code",
   "execution_count": 28,
   "id": "1140bd11",
   "metadata": {},
   "outputs": [
    {
     "data": {
      "text/plain": [
       "0   2025-09-01\n",
       "1          NaT\n",
       "2   2025-09-05\n",
       "3   2025-09-07\n",
       "4   2025-09-07\n",
       "5   2025-09-10\n",
       "6   2025-09-12\n",
       "dtype: datetime64[ns]"
      ]
     },
     "execution_count": 28,
     "metadata": {},
     "output_type": "execute_result"
    }
   ],
   "source": [
    "try:\n",
    "    pd.to_datetime(customers['created_at'], errors='raise')\n",
    "except Exception as e:\n",
    "    print(\"Strict conversion failed:\", e)\n",
    "\n",
    "# Use a mask to strictly parse only ISO-like 'YYYY-MM-DD' rows\n",
    "mask_iso = customers['created_at'].astype(str).str.match(r'^\\d{4}-\\d{2}-\\d{2}$', na=False)\n",
    "created_fixed = pd.Series(pd.NaT, index=customers.index, dtype='datetime64[ns]')\n",
    "created_fixed[mask_iso] = pd.to_datetime(customers.loc[mask_iso, 'created_at'], format='%Y-%m-%d', errors='coerce')\n",
    "created_fixed[~mask_iso] = pd.to_datetime(customers.loc[~mask_iso, 'created_at'], errors='coerce')  # fallback\n",
    "created_fixed"
   ]
  },
  {
   "cell_type": "markdown",
   "id": "85849142",
   "metadata": {},
   "source": [
    "**Exercise 3.** Enforce a categorical dtype for `customers['state_norm']` limited to `['TN','GA','AL']`. Show rows that become NaN after enforcement."
   ]
  },
  {
   "cell_type": "code",
   "execution_count": 29,
   "id": "8b3bcc48",
   "metadata": {},
   "outputs": [],
   "source": [
    "# TODO: Your code here\n",
    "# 1) Define CategoricalDtype\n",
    "# 2) astype to that type\n",
    "# 3) filter rows where value is NaN in enforced column\n",
    "pass"
   ]
  },
  {
   "cell_type": "code",
   "execution_count": 30,
   "id": "bea40032",
   "metadata": {},
   "outputs": [
    {
     "data": {
      "text/plain": [
       "(CategoricalDtype(categories=['TN', 'GA', 'AL'], ordered=False, categories_dtype=object),\n",
       " Empty DataFrame\n",
       " Columns: [id, state, state_norm]\n",
       " Index: [])"
      ]
     },
     "execution_count": 30,
     "metadata": {},
     "output_type": "execute_result"
    }
   ],
   "source": [
    "state_type2 = CategoricalDtype(categories=['TN','GA','AL'], ordered=False)\n",
    "state_enforced = customers['state_norm'].astype(state_type2)\n",
    "invalid_rows = customers[state_enforced.isna()][['id','state','state_norm']]\n",
    "state_enforced.dtype, invalid_rows"
   ]
  },
  {
   "cell_type": "markdown",
   "id": "9804cfe7",
   "metadata": {},
   "source": [
    "**Exercise 4.** Prove that `cust_unique['id']` is unique using two independent checks."
   ]
  },
  {
   "cell_type": "code",
   "execution_count": 31,
   "id": "f6cf447c",
   "metadata": {},
   "outputs": [],
   "source": [
    "# TODO: Your code here\n",
    "# e.g., use .is_unique and duplicated().any()\n",
    "pass"
   ]
  },
  {
   "cell_type": "code",
   "execution_count": 32,
   "id": "d8398e22",
   "metadata": {},
   "outputs": [
    {
     "data": {
      "text/plain": [
       "(True, True)"
      ]
     },
     "execution_count": 32,
     "metadata": {},
     "output_type": "execute_result"
    }
   ],
   "source": [
    "check1 = cust_unique['id'].is_unique\n",
    "check2 = not cust_unique['id'].duplicated().any()\n",
    "check1, check2"
   ]
  }
 ],
 "metadata": {
  "kernelspec": {
   "display_name": "Python 3",
   "language": "python",
   "name": "python3"
  },
  "language_info": {
   "codemirror_mode": {
    "name": "ipython",
    "version": 3
   },
   "file_extension": ".py",
   "mimetype": "text/x-python",
   "name": "python",
   "nbconvert_exporter": "python",
   "pygments_lexer": "ipython3",
   "version": "3.12.11"
  }
 },
 "nbformat": 4,
 "nbformat_minor": 5
}
